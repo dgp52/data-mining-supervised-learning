{
 "cells": [
  {
   "cell_type": "code",
   "execution_count": 154,
   "metadata": {
    "scrolled": true
   },
   "outputs": [],
   "source": [
    "#Imports\n",
    "import pandas as pd\n",
    "import numpy as np\n",
    "import seaborn as sns\n",
    "from matplotlib import pyplot as plt\n",
    "from sklearn.preprocessing import LabelEncoder, StandardScaler\n",
    "from sklearn import preprocessing\n",
    "from sklearn.ensemble import ExtraTreesClassifier\n",
    "from sklearn.model_selection import train_test_split\n",
    "from sklearn.linear_model import LogisticRegression\n",
    "from sklearn import metrics\n",
    "from sklearn import svm\n",
    "from sklearn.metrics import confusion_matrix, classification_report, accuracy_score\n",
    "from imblearn.over_sampling import SMOTE\n",
    "from sklearn.metrics import plot_confusion_matrix\n",
    "from sklearn.preprocessing import binarize"
   ]
  },
  {
   "cell_type": "code",
   "execution_count": 94,
   "metadata": {},
   "outputs": [],
   "source": [
    "#Input file\n",
    "INPUT_FILE = 'churn.csv'\n",
    "dataframe = pd.read_csv(INPUT_FILE, header = 0)"
   ]
  },
  {
   "cell_type": "code",
   "execution_count": 95,
   "metadata": {
    "scrolled": false
   },
   "outputs": [
    {
     "data": {
      "text/html": [
       "<div>\n",
       "<style scoped>\n",
       "    .dataframe tbody tr th:only-of-type {\n",
       "        vertical-align: middle;\n",
       "    }\n",
       "\n",
       "    .dataframe tbody tr th {\n",
       "        vertical-align: top;\n",
       "    }\n",
       "\n",
       "    .dataframe thead th {\n",
       "        text-align: right;\n",
       "    }\n",
       "</style>\n",
       "<table border=\"1\" class=\"dataframe\">\n",
       "  <thead>\n",
       "    <tr style=\"text-align: right;\">\n",
       "      <th></th>\n",
       "      <th>State</th>\n",
       "      <th>Account length</th>\n",
       "      <th>Area code</th>\n",
       "      <th>International plan</th>\n",
       "      <th>Voice mail plan</th>\n",
       "      <th>Number vmail messages</th>\n",
       "      <th>Total day minutes</th>\n",
       "      <th>Total day calls</th>\n",
       "      <th>Total day charge</th>\n",
       "      <th>Total eve minutes</th>\n",
       "      <th>Total eve calls</th>\n",
       "      <th>Total eve charge</th>\n",
       "      <th>Total night minutes</th>\n",
       "      <th>Total night calls</th>\n",
       "      <th>Total night charge</th>\n",
       "      <th>Total intl minutes</th>\n",
       "      <th>Total intl calls</th>\n",
       "      <th>Total intl charge</th>\n",
       "      <th>Customer service calls</th>\n",
       "      <th>Churn</th>\n",
       "    </tr>\n",
       "  </thead>\n",
       "  <tbody>\n",
       "    <tr>\n",
       "      <td>0</td>\n",
       "      <td>KS</td>\n",
       "      <td>128</td>\n",
       "      <td>415</td>\n",
       "      <td>No</td>\n",
       "      <td>Yes</td>\n",
       "      <td>25</td>\n",
       "      <td>265.1</td>\n",
       "      <td>110</td>\n",
       "      <td>45.07</td>\n",
       "      <td>197.4</td>\n",
       "      <td>99</td>\n",
       "      <td>16.78</td>\n",
       "      <td>244.7</td>\n",
       "      <td>91</td>\n",
       "      <td>11.01</td>\n",
       "      <td>10.0</td>\n",
       "      <td>3</td>\n",
       "      <td>2.70</td>\n",
       "      <td>1</td>\n",
       "      <td>False</td>\n",
       "    </tr>\n",
       "    <tr>\n",
       "      <td>1</td>\n",
       "      <td>OH</td>\n",
       "      <td>107</td>\n",
       "      <td>415</td>\n",
       "      <td>No</td>\n",
       "      <td>Yes</td>\n",
       "      <td>26</td>\n",
       "      <td>161.6</td>\n",
       "      <td>123</td>\n",
       "      <td>27.47</td>\n",
       "      <td>195.5</td>\n",
       "      <td>103</td>\n",
       "      <td>16.62</td>\n",
       "      <td>254.4</td>\n",
       "      <td>103</td>\n",
       "      <td>11.45</td>\n",
       "      <td>13.7</td>\n",
       "      <td>3</td>\n",
       "      <td>3.70</td>\n",
       "      <td>1</td>\n",
       "      <td>False</td>\n",
       "    </tr>\n",
       "    <tr>\n",
       "      <td>2</td>\n",
       "      <td>NJ</td>\n",
       "      <td>137</td>\n",
       "      <td>415</td>\n",
       "      <td>No</td>\n",
       "      <td>No</td>\n",
       "      <td>0</td>\n",
       "      <td>243.4</td>\n",
       "      <td>114</td>\n",
       "      <td>41.38</td>\n",
       "      <td>121.2</td>\n",
       "      <td>110</td>\n",
       "      <td>10.30</td>\n",
       "      <td>162.6</td>\n",
       "      <td>104</td>\n",
       "      <td>7.32</td>\n",
       "      <td>12.2</td>\n",
       "      <td>5</td>\n",
       "      <td>3.29</td>\n",
       "      <td>0</td>\n",
       "      <td>False</td>\n",
       "    </tr>\n",
       "    <tr>\n",
       "      <td>3</td>\n",
       "      <td>OH</td>\n",
       "      <td>84</td>\n",
       "      <td>408</td>\n",
       "      <td>Yes</td>\n",
       "      <td>No</td>\n",
       "      <td>0</td>\n",
       "      <td>299.4</td>\n",
       "      <td>71</td>\n",
       "      <td>50.90</td>\n",
       "      <td>61.9</td>\n",
       "      <td>88</td>\n",
       "      <td>5.26</td>\n",
       "      <td>196.9</td>\n",
       "      <td>89</td>\n",
       "      <td>8.86</td>\n",
       "      <td>6.6</td>\n",
       "      <td>7</td>\n",
       "      <td>1.78</td>\n",
       "      <td>2</td>\n",
       "      <td>False</td>\n",
       "    </tr>\n",
       "    <tr>\n",
       "      <td>4</td>\n",
       "      <td>OK</td>\n",
       "      <td>75</td>\n",
       "      <td>415</td>\n",
       "      <td>Yes</td>\n",
       "      <td>No</td>\n",
       "      <td>0</td>\n",
       "      <td>166.7</td>\n",
       "      <td>113</td>\n",
       "      <td>28.34</td>\n",
       "      <td>148.3</td>\n",
       "      <td>122</td>\n",
       "      <td>12.61</td>\n",
       "      <td>186.9</td>\n",
       "      <td>121</td>\n",
       "      <td>8.41</td>\n",
       "      <td>10.1</td>\n",
       "      <td>3</td>\n",
       "      <td>2.73</td>\n",
       "      <td>3</td>\n",
       "      <td>False</td>\n",
       "    </tr>\n",
       "    <tr>\n",
       "      <td>...</td>\n",
       "      <td>...</td>\n",
       "      <td>...</td>\n",
       "      <td>...</td>\n",
       "      <td>...</td>\n",
       "      <td>...</td>\n",
       "      <td>...</td>\n",
       "      <td>...</td>\n",
       "      <td>...</td>\n",
       "      <td>...</td>\n",
       "      <td>...</td>\n",
       "      <td>...</td>\n",
       "      <td>...</td>\n",
       "      <td>...</td>\n",
       "      <td>...</td>\n",
       "      <td>...</td>\n",
       "      <td>...</td>\n",
       "      <td>...</td>\n",
       "      <td>...</td>\n",
       "      <td>...</td>\n",
       "      <td>...</td>\n",
       "    </tr>\n",
       "    <tr>\n",
       "      <td>2661</td>\n",
       "      <td>SC</td>\n",
       "      <td>79</td>\n",
       "      <td>415</td>\n",
       "      <td>No</td>\n",
       "      <td>No</td>\n",
       "      <td>0</td>\n",
       "      <td>134.7</td>\n",
       "      <td>98</td>\n",
       "      <td>22.90</td>\n",
       "      <td>189.7</td>\n",
       "      <td>68</td>\n",
       "      <td>16.12</td>\n",
       "      <td>221.4</td>\n",
       "      <td>128</td>\n",
       "      <td>9.96</td>\n",
       "      <td>11.8</td>\n",
       "      <td>5</td>\n",
       "      <td>3.19</td>\n",
       "      <td>2</td>\n",
       "      <td>False</td>\n",
       "    </tr>\n",
       "    <tr>\n",
       "      <td>2662</td>\n",
       "      <td>AZ</td>\n",
       "      <td>192</td>\n",
       "      <td>415</td>\n",
       "      <td>No</td>\n",
       "      <td>Yes</td>\n",
       "      <td>36</td>\n",
       "      <td>156.2</td>\n",
       "      <td>77</td>\n",
       "      <td>26.55</td>\n",
       "      <td>215.5</td>\n",
       "      <td>126</td>\n",
       "      <td>18.32</td>\n",
       "      <td>279.1</td>\n",
       "      <td>83</td>\n",
       "      <td>12.56</td>\n",
       "      <td>9.9</td>\n",
       "      <td>6</td>\n",
       "      <td>2.67</td>\n",
       "      <td>2</td>\n",
       "      <td>False</td>\n",
       "    </tr>\n",
       "    <tr>\n",
       "      <td>2663</td>\n",
       "      <td>WV</td>\n",
       "      <td>68</td>\n",
       "      <td>415</td>\n",
       "      <td>No</td>\n",
       "      <td>No</td>\n",
       "      <td>0</td>\n",
       "      <td>231.1</td>\n",
       "      <td>57</td>\n",
       "      <td>39.29</td>\n",
       "      <td>153.4</td>\n",
       "      <td>55</td>\n",
       "      <td>13.04</td>\n",
       "      <td>191.3</td>\n",
       "      <td>123</td>\n",
       "      <td>8.61</td>\n",
       "      <td>9.6</td>\n",
       "      <td>4</td>\n",
       "      <td>2.59</td>\n",
       "      <td>3</td>\n",
       "      <td>False</td>\n",
       "    </tr>\n",
       "    <tr>\n",
       "      <td>2664</td>\n",
       "      <td>RI</td>\n",
       "      <td>28</td>\n",
       "      <td>510</td>\n",
       "      <td>No</td>\n",
       "      <td>No</td>\n",
       "      <td>0</td>\n",
       "      <td>180.8</td>\n",
       "      <td>109</td>\n",
       "      <td>30.74</td>\n",
       "      <td>288.8</td>\n",
       "      <td>58</td>\n",
       "      <td>24.55</td>\n",
       "      <td>191.9</td>\n",
       "      <td>91</td>\n",
       "      <td>8.64</td>\n",
       "      <td>14.1</td>\n",
       "      <td>6</td>\n",
       "      <td>3.81</td>\n",
       "      <td>2</td>\n",
       "      <td>False</td>\n",
       "    </tr>\n",
       "    <tr>\n",
       "      <td>2665</td>\n",
       "      <td>TN</td>\n",
       "      <td>74</td>\n",
       "      <td>415</td>\n",
       "      <td>No</td>\n",
       "      <td>Yes</td>\n",
       "      <td>25</td>\n",
       "      <td>234.4</td>\n",
       "      <td>113</td>\n",
       "      <td>39.85</td>\n",
       "      <td>265.9</td>\n",
       "      <td>82</td>\n",
       "      <td>22.60</td>\n",
       "      <td>241.4</td>\n",
       "      <td>77</td>\n",
       "      <td>10.86</td>\n",
       "      <td>13.7</td>\n",
       "      <td>4</td>\n",
       "      <td>3.70</td>\n",
       "      <td>0</td>\n",
       "      <td>False</td>\n",
       "    </tr>\n",
       "  </tbody>\n",
       "</table>\n",
       "<p>2666 rows × 20 columns</p>\n",
       "</div>"
      ],
      "text/plain": [
       "     State  Account length  Area code International plan Voice mail plan  \\\n",
       "0       KS             128        415                 No             Yes   \n",
       "1       OH             107        415                 No             Yes   \n",
       "2       NJ             137        415                 No              No   \n",
       "3       OH              84        408                Yes              No   \n",
       "4       OK              75        415                Yes              No   \n",
       "...    ...             ...        ...                ...             ...   \n",
       "2661    SC              79        415                 No              No   \n",
       "2662    AZ             192        415                 No             Yes   \n",
       "2663    WV              68        415                 No              No   \n",
       "2664    RI              28        510                 No              No   \n",
       "2665    TN              74        415                 No             Yes   \n",
       "\n",
       "      Number vmail messages  Total day minutes  Total day calls  \\\n",
       "0                        25              265.1              110   \n",
       "1                        26              161.6              123   \n",
       "2                         0              243.4              114   \n",
       "3                         0              299.4               71   \n",
       "4                         0              166.7              113   \n",
       "...                     ...                ...              ...   \n",
       "2661                      0              134.7               98   \n",
       "2662                     36              156.2               77   \n",
       "2663                      0              231.1               57   \n",
       "2664                      0              180.8              109   \n",
       "2665                     25              234.4              113   \n",
       "\n",
       "      Total day charge  Total eve minutes  Total eve calls  Total eve charge  \\\n",
       "0                45.07              197.4               99             16.78   \n",
       "1                27.47              195.5              103             16.62   \n",
       "2                41.38              121.2              110             10.30   \n",
       "3                50.90               61.9               88              5.26   \n",
       "4                28.34              148.3              122             12.61   \n",
       "...                ...                ...              ...               ...   \n",
       "2661             22.90              189.7               68             16.12   \n",
       "2662             26.55              215.5              126             18.32   \n",
       "2663             39.29              153.4               55             13.04   \n",
       "2664             30.74              288.8               58             24.55   \n",
       "2665             39.85              265.9               82             22.60   \n",
       "\n",
       "      Total night minutes  Total night calls  Total night charge  \\\n",
       "0                   244.7                 91               11.01   \n",
       "1                   254.4                103               11.45   \n",
       "2                   162.6                104                7.32   \n",
       "3                   196.9                 89                8.86   \n",
       "4                   186.9                121                8.41   \n",
       "...                   ...                ...                 ...   \n",
       "2661                221.4                128                9.96   \n",
       "2662                279.1                 83               12.56   \n",
       "2663                191.3                123                8.61   \n",
       "2664                191.9                 91                8.64   \n",
       "2665                241.4                 77               10.86   \n",
       "\n",
       "      Total intl minutes  Total intl calls  Total intl charge  \\\n",
       "0                   10.0                 3               2.70   \n",
       "1                   13.7                 3               3.70   \n",
       "2                   12.2                 5               3.29   \n",
       "3                    6.6                 7               1.78   \n",
       "4                   10.1                 3               2.73   \n",
       "...                  ...               ...                ...   \n",
       "2661                11.8                 5               3.19   \n",
       "2662                 9.9                 6               2.67   \n",
       "2663                 9.6                 4               2.59   \n",
       "2664                14.1                 6               3.81   \n",
       "2665                13.7                 4               3.70   \n",
       "\n",
       "      Customer service calls  Churn  \n",
       "0                          1  False  \n",
       "1                          1  False  \n",
       "2                          0  False  \n",
       "3                          2  False  \n",
       "4                          3  False  \n",
       "...                      ...    ...  \n",
       "2661                       2  False  \n",
       "2662                       2  False  \n",
       "2663                       3  False  \n",
       "2664                       2  False  \n",
       "2665                       0  False  \n",
       "\n",
       "[2666 rows x 20 columns]"
      ]
     },
     "execution_count": 95,
     "metadata": {},
     "output_type": "execute_result"
    }
   ],
   "source": [
    "dataframe"
   ]
  },
  {
   "cell_type": "code",
   "execution_count": 96,
   "metadata": {},
   "outputs": [],
   "source": [
    "#Convert churn to int\n",
    "dataframe[\"Churn\"] = dataframe[\"Churn\"].astype(int)"
   ]
  },
  {
   "cell_type": "code",
   "execution_count": 97,
   "metadata": {},
   "outputs": [
    {
     "data": {
      "text/plain": [
       "Churn\n",
       "0    2278\n",
       "1     388\n",
       "Name: Churn, dtype: int64"
      ]
     },
     "execution_count": 97,
     "metadata": {},
     "output_type": "execute_result"
    }
   ],
   "source": [
    "#Take a look at the count\n",
    "dataframe.groupby(\"Churn\").Churn.count() "
   ]
  },
  {
   "cell_type": "code",
   "execution_count": 98,
   "metadata": {},
   "outputs": [
    {
     "data": {
      "image/png": "[encoded data removed]",
      "text/plain": [
       "<Figure size 432x288 with 1 Axes>"
      ]
     },
     "metadata": {
      "needs_background": "light"
     },
     "output_type": "display_data"
    }
   ],
   "source": [
    "#Plot States churn count\n",
    "trueChurns =  dataframe.loc[dataframe[\"Churn\"] == 1]\n",
    "trueChurns.groupby(['State']).State.count().nlargest(10).plot(kind=\"bar\")\n",
    "plt.xlabel('State')\n",
    "plt.ylabel('Churn Count')\n",
    "plt.show()"
   ]
  },
  {
   "cell_type": "code",
   "execution_count": 101,
   "metadata": {
    "scrolled": true
   },
   "outputs": [
    {
     "data": {
      "image/png": "[encoded data removed]",
      "text/plain": [
       "<Figure size 432x288 with 1 Axes>"
      ]
     },
     "metadata": {
      "needs_background": "light"
     },
     "output_type": "display_data"
    }
   ],
   "source": [
    "#Plot International Plan churn count\n",
    "sns.countplot(x = 'International plan', hue = 'Churn', data = dataframe, palette = 'Blues' )\n",
    "plt.xlabel('International Plan')\n",
    "plt.ylabel('Churn Count')\n",
    "plt.legend(title='Churn', loc=\"upper right\", labels=['Did not Churn','Churn'])\n",
    "plt.show()"
   ]
  },
  {
   "cell_type": "code",
   "execution_count": 102,
   "metadata": {},
   "outputs": [],
   "source": [
    "#Drop State column\n",
    "dataframe.drop(['State'], axis=1, inplace=True)"
   ]
  },
  {
   "cell_type": "code",
   "execution_count": 103,
   "metadata": {},
   "outputs": [
    {
     "data": {
      "image/png": "[encoded data removed]",
      "text/plain": [
       "<Figure size 432x288 with 1 Axes>"
      ]
     },
     "metadata": {
      "needs_background": "light"
     },
     "output_type": "display_data"
    }
   ],
   "source": [
    "#Check if the dataset is imbalanced\n",
    "dataframe.groupby('Churn').Churn.count().plot(kind=\"bar\")\n",
    "plt.xlabel('International Plan')\n",
    "plt.ylabel('Count')\n",
    "plt.show()"
   ]
  },
  {
   "cell_type": "code",
   "execution_count": 104,
   "metadata": {},
   "outputs": [],
   "source": [
    "#Use one hot encoding to convert string into int\n",
    "toOneHotEncode = ['International plan','Voice mail plan']\n",
    "oneHotEncoded = pd.get_dummies(dataframe, columns = toOneHotEncode)\n",
    "newDataFrame = oneHotEncoded\n",
    "churnCol = newDataFrame['Churn']\n",
    "newDataFrame = newDataFrame.drop(['Churn'], axis = 1)\n",
    "newDataFrame['TargetCol'] = churnCol"
   ]
  },
  {
   "cell_type": "code",
   "execution_count": 105,
   "metadata": {},
   "outputs": [
    {
     "data": {
      "text/html": [
       "<div>\n",
       "<style scoped>\n",
       "    .dataframe tbody tr th:only-of-type {\n",
       "        vertical-align: middle;\n",
       "    }\n",
       "\n",
       "    .dataframe tbody tr th {\n",
       "        vertical-align: top;\n",
       "    }\n",
       "\n",
       "    .dataframe thead th {\n",
       "        text-align: right;\n",
       "    }\n",
       "</style>\n",
       "<table border=\"1\" class=\"dataframe\">\n",
       "  <thead>\n",
       "    <tr style=\"text-align: right;\">\n",
       "      <th></th>\n",
       "      <th>Account length</th>\n",
       "      <th>Area code</th>\n",
       "      <th>Number vmail messages</th>\n",
       "      <th>Total day minutes</th>\n",
       "      <th>Total day calls</th>\n",
       "      <th>Total day charge</th>\n",
       "      <th>Total eve minutes</th>\n",
       "      <th>Total eve calls</th>\n",
       "      <th>Total eve charge</th>\n",
       "      <th>Total night minutes</th>\n",
       "      <th>...</th>\n",
       "      <th>Total night charge</th>\n",
       "      <th>Total intl minutes</th>\n",
       "      <th>Total intl calls</th>\n",
       "      <th>Total intl charge</th>\n",
       "      <th>Customer service calls</th>\n",
       "      <th>International plan_No</th>\n",
       "      <th>International plan_Yes</th>\n",
       "      <th>Voice mail plan_No</th>\n",
       "      <th>Voice mail plan_Yes</th>\n",
       "      <th>TargetCol</th>\n",
       "    </tr>\n",
       "  </thead>\n",
       "  <tbody>\n",
       "    <tr>\n",
       "      <td>0</td>\n",
       "      <td>128</td>\n",
       "      <td>415</td>\n",
       "      <td>25</td>\n",
       "      <td>265.1</td>\n",
       "      <td>110</td>\n",
       "      <td>45.07</td>\n",
       "      <td>197.4</td>\n",
       "      <td>99</td>\n",
       "      <td>16.78</td>\n",
       "      <td>244.7</td>\n",
       "      <td>...</td>\n",
       "      <td>11.01</td>\n",
       "      <td>10.0</td>\n",
       "      <td>3</td>\n",
       "      <td>2.70</td>\n",
       "      <td>1</td>\n",
       "      <td>1</td>\n",
       "      <td>0</td>\n",
       "      <td>0</td>\n",
       "      <td>1</td>\n",
       "      <td>0</td>\n",
       "    </tr>\n",
       "    <tr>\n",
       "      <td>1</td>\n",
       "      <td>107</td>\n",
       "      <td>415</td>\n",
       "      <td>26</td>\n",
       "      <td>161.6</td>\n",
       "      <td>123</td>\n",
       "      <td>27.47</td>\n",
       "      <td>195.5</td>\n",
       "      <td>103</td>\n",
       "      <td>16.62</td>\n",
       "      <td>254.4</td>\n",
       "      <td>...</td>\n",
       "      <td>11.45</td>\n",
       "      <td>13.7</td>\n",
       "      <td>3</td>\n",
       "      <td>3.70</td>\n",
       "      <td>1</td>\n",
       "      <td>1</td>\n",
       "      <td>0</td>\n",
       "      <td>0</td>\n",
       "      <td>1</td>\n",
       "      <td>0</td>\n",
       "    </tr>\n",
       "    <tr>\n",
       "      <td>2</td>\n",
       "      <td>137</td>\n",
       "      <td>415</td>\n",
       "      <td>0</td>\n",
       "      <td>243.4</td>\n",
       "      <td>114</td>\n",
       "      <td>41.38</td>\n",
       "      <td>121.2</td>\n",
       "      <td>110</td>\n",
       "      <td>10.30</td>\n",
       "      <td>162.6</td>\n",
       "      <td>...</td>\n",
       "      <td>7.32</td>\n",
       "      <td>12.2</td>\n",
       "      <td>5</td>\n",
       "      <td>3.29</td>\n",
       "      <td>0</td>\n",
       "      <td>1</td>\n",
       "      <td>0</td>\n",
       "      <td>1</td>\n",
       "      <td>0</td>\n",
       "      <td>0</td>\n",
       "    </tr>\n",
       "    <tr>\n",
       "      <td>3</td>\n",
       "      <td>84</td>\n",
       "      <td>408</td>\n",
       "      <td>0</td>\n",
       "      <td>299.4</td>\n",
       "      <td>71</td>\n",
       "      <td>50.90</td>\n",
       "      <td>61.9</td>\n",
       "      <td>88</td>\n",
       "      <td>5.26</td>\n",
       "      <td>196.9</td>\n",
       "      <td>...</td>\n",
       "      <td>8.86</td>\n",
       "      <td>6.6</td>\n",
       "      <td>7</td>\n",
       "      <td>1.78</td>\n",
       "      <td>2</td>\n",
       "      <td>0</td>\n",
       "      <td>1</td>\n",
       "      <td>1</td>\n",
       "      <td>0</td>\n",
       "      <td>0</td>\n",
       "    </tr>\n",
       "    <tr>\n",
       "      <td>4</td>\n",
       "      <td>75</td>\n",
       "      <td>415</td>\n",
       "      <td>0</td>\n",
       "      <td>166.7</td>\n",
       "      <td>113</td>\n",
       "      <td>28.34</td>\n",
       "      <td>148.3</td>\n",
       "      <td>122</td>\n",
       "      <td>12.61</td>\n",
       "      <td>186.9</td>\n",
       "      <td>...</td>\n",
       "      <td>8.41</td>\n",
       "      <td>10.1</td>\n",
       "      <td>3</td>\n",
       "      <td>2.73</td>\n",
       "      <td>3</td>\n",
       "      <td>0</td>\n",
       "      <td>1</td>\n",
       "      <td>1</td>\n",
       "      <td>0</td>\n",
       "      <td>0</td>\n",
       "    </tr>\n",
       "    <tr>\n",
       "      <td>...</td>\n",
       "      <td>...</td>\n",
       "      <td>...</td>\n",
       "      <td>...</td>\n",
       "      <td>...</td>\n",
       "      <td>...</td>\n",
       "      <td>...</td>\n",
       "      <td>...</td>\n",
       "      <td>...</td>\n",
       "      <td>...</td>\n",
       "      <td>...</td>\n",
       "      <td>...</td>\n",
       "      <td>...</td>\n",
       "      <td>...</td>\n",
       "      <td>...</td>\n",
       "      <td>...</td>\n",
       "      <td>...</td>\n",
       "      <td>...</td>\n",
       "      <td>...</td>\n",
       "      <td>...</td>\n",
       "      <td>...</td>\n",
       "      <td>...</td>\n",
       "    </tr>\n",
       "    <tr>\n",
       "      <td>2661</td>\n",
       "      <td>79</td>\n",
       "      <td>415</td>\n",
       "      <td>0</td>\n",
       "      <td>134.7</td>\n",
       "      <td>98</td>\n",
       "      <td>22.90</td>\n",
       "      <td>189.7</td>\n",
       "      <td>68</td>\n",
       "      <td>16.12</td>\n",
       "      <td>221.4</td>\n",
       "      <td>...</td>\n",
       "      <td>9.96</td>\n",
       "      <td>11.8</td>\n",
       "      <td>5</td>\n",
       "      <td>3.19</td>\n",
       "      <td>2</td>\n",
       "      <td>1</td>\n",
       "      <td>0</td>\n",
       "      <td>1</td>\n",
       "      <td>0</td>\n",
       "      <td>0</td>\n",
       "    </tr>\n",
       "    <tr>\n",
       "      <td>2662</td>\n",
       "      <td>192</td>\n",
       "      <td>415</td>\n",
       "      <td>36</td>\n",
       "      <td>156.2</td>\n",
       "      <td>77</td>\n",
       "      <td>26.55</td>\n",
       "      <td>215.5</td>\n",
       "      <td>126</td>\n",
       "      <td>18.32</td>\n",
       "      <td>279.1</td>\n",
       "      <td>...</td>\n",
       "      <td>12.56</td>\n",
       "      <td>9.9</td>\n",
       "      <td>6</td>\n",
       "      <td>2.67</td>\n",
       "      <td>2</td>\n",
       "      <td>1</td>\n",
       "      <td>0</td>\n",
       "      <td>0</td>\n",
       "      <td>1</td>\n",
       "      <td>0</td>\n",
       "    </tr>\n",
       "    <tr>\n",
       "      <td>2663</td>\n",
       "      <td>68</td>\n",
       "      <td>415</td>\n",
       "      <td>0</td>\n",
       "      <td>231.1</td>\n",
       "      <td>57</td>\n",
       "      <td>39.29</td>\n",
       "      <td>153.4</td>\n",
       "      <td>55</td>\n",
       "      <td>13.04</td>\n",
       "      <td>191.3</td>\n",
       "      <td>...</td>\n",
       "      <td>8.61</td>\n",
       "      <td>9.6</td>\n",
       "      <td>4</td>\n",
       "      <td>2.59</td>\n",
       "      <td>3</td>\n",
       "      <td>1</td>\n",
       "      <td>0</td>\n",
       "      <td>1</td>\n",
       "      <td>0</td>\n",
       "      <td>0</td>\n",
       "    </tr>\n",
       "    <tr>\n",
       "      <td>2664</td>\n",
       "      <td>28</td>\n",
       "      <td>510</td>\n",
       "      <td>0</td>\n",
       "      <td>180.8</td>\n",
       "      <td>109</td>\n",
       "      <td>30.74</td>\n",
       "      <td>288.8</td>\n",
       "      <td>58</td>\n",
       "      <td>24.55</td>\n",
       "      <td>191.9</td>\n",
       "      <td>...</td>\n",
       "      <td>8.64</td>\n",
       "      <td>14.1</td>\n",
       "      <td>6</td>\n",
       "      <td>3.81</td>\n",
       "      <td>2</td>\n",
       "      <td>1</td>\n",
       "      <td>0</td>\n",
       "      <td>1</td>\n",
       "      <td>0</td>\n",
       "      <td>0</td>\n",
       "    </tr>\n",
       "    <tr>\n",
       "      <td>2665</td>\n",
       "      <td>74</td>\n",
       "      <td>415</td>\n",
       "      <td>25</td>\n",
       "      <td>234.4</td>\n",
       "      <td>113</td>\n",
       "      <td>39.85</td>\n",
       "      <td>265.9</td>\n",
       "      <td>82</td>\n",
       "      <td>22.60</td>\n",
       "      <td>241.4</td>\n",
       "      <td>...</td>\n",
       "      <td>10.86</td>\n",
       "      <td>13.7</td>\n",
       "      <td>4</td>\n",
       "      <td>3.70</td>\n",
       "      <td>0</td>\n",
       "      <td>1</td>\n",
       "      <td>0</td>\n",
       "      <td>0</td>\n",
       "      <td>1</td>\n",
       "      <td>0</td>\n",
       "    </tr>\n",
       "  </tbody>\n",
       "</table>\n",
       "<p>2666 rows × 21 columns</p>\n",
       "</div>"
      ],
      "text/plain": [
       "      Account length  Area code  Number vmail messages  Total day minutes  \\\n",
       "0                128        415                     25              265.1   \n",
       "1                107        415                     26              161.6   \n",
       "2                137        415                      0              243.4   \n",
       "3                 84        408                      0              299.4   \n",
       "4                 75        415                      0              166.7   \n",
       "...              ...        ...                    ...                ...   \n",
       "2661              79        415                      0              134.7   \n",
       "2662             192        415                     36              156.2   \n",
       "2663              68        415                      0              231.1   \n",
       "2664              28        510                      0              180.8   \n",
       "2665              74        415                     25              234.4   \n",
       "\n",
       "      Total day calls  Total day charge  Total eve minutes  Total eve calls  \\\n",
       "0                 110             45.07              197.4               99   \n",
       "1                 123             27.47              195.5              103   \n",
       "2                 114             41.38              121.2              110   \n",
       "3                  71             50.90               61.9               88   \n",
       "4                 113             28.34              148.3              122   \n",
       "...               ...               ...                ...              ...   \n",
       "2661               98             22.90              189.7               68   \n",
       "2662               77             26.55              215.5              126   \n",
       "2663               57             39.29              153.4               55   \n",
       "2664              109             30.74              288.8               58   \n",
       "2665              113             39.85              265.9               82   \n",
       "\n",
       "      Total eve charge  Total night minutes  ...  Total night charge  \\\n",
       "0                16.78                244.7  ...               11.01   \n",
       "1                16.62                254.4  ...               11.45   \n",
       "2                10.30                162.6  ...                7.32   \n",
       "3                 5.26                196.9  ...                8.86   \n",
       "4                12.61                186.9  ...                8.41   \n",
       "...                ...                  ...  ...                 ...   \n",
       "2661             16.12                221.4  ...                9.96   \n",
       "2662             18.32                279.1  ...               12.56   \n",
       "2663             13.04                191.3  ...                8.61   \n",
       "2664             24.55                191.9  ...                8.64   \n",
       "2665             22.60                241.4  ...               10.86   \n",
       "\n",
       "      Total intl minutes  Total intl calls  Total intl charge  \\\n",
       "0                   10.0                 3               2.70   \n",
       "1                   13.7                 3               3.70   \n",
       "2                   12.2                 5               3.29   \n",
       "3                    6.6                 7               1.78   \n",
       "4                   10.1                 3               2.73   \n",
       "...                  ...               ...                ...   \n",
       "2661                11.8                 5               3.19   \n",
       "2662                 9.9                 6               2.67   \n",
       "2663                 9.6                 4               2.59   \n",
       "2664                14.1                 6               3.81   \n",
       "2665                13.7                 4               3.70   \n",
       "\n",
       "      Customer service calls  International plan_No  International plan_Yes  \\\n",
       "0                          1                      1                       0   \n",
       "1                          1                      1                       0   \n",
       "2                          0                      1                       0   \n",
       "3                          2                      0                       1   \n",
       "4                          3                      0                       1   \n",
       "...                      ...                    ...                     ...   \n",
       "2661                       2                      1                       0   \n",
       "2662                       2                      1                       0   \n",
       "2663                       3                      1                       0   \n",
       "2664                       2                      1                       0   \n",
       "2665                       0                      1                       0   \n",
       "\n",
       "      Voice mail plan_No  Voice mail plan_Yes  TargetCol  \n",
       "0                      0                    1          0  \n",
       "1                      0                    1          0  \n",
       "2                      1                    0          0  \n",
       "3                      1                    0          0  \n",
       "4                      1                    0          0  \n",
       "...                  ...                  ...        ...  \n",
       "2661                   1                    0          0  \n",
       "2662                   0                    1          0  \n",
       "2663                   1                    0          0  \n",
       "2664                   1                    0          0  \n",
       "2665                   0                    1          0  \n",
       "\n",
       "[2666 rows x 21 columns]"
      ]
     },
     "execution_count": 105,
     "metadata": {},
     "output_type": "execute_result"
    }
   ],
   "source": [
    "newDataFrame"
   ]
  },
  {
   "cell_type": "code",
   "execution_count": 106,
   "metadata": {},
   "outputs": [
    {
     "data": {
      "image/png": "[encoded data removed]",
      "text/plain": [
       "<Figure size 432x288 with 1 Axes>"
      ]
     },
     "metadata": {
      "needs_background": "light"
     },
     "output_type": "display_data"
    }
   ],
   "source": [
    "#Get all the columns except target column\n",
    "X = newDataFrame.iloc[:,0:20]\n",
    "#Get the target column\n",
    "y = newDataFrame.iloc[:,-1]\n",
    "#Checkout which feature has the highest importance\n",
    "model = ExtraTreesClassifier(random_state=0)\n",
    "model.fit(X,y)\n",
    "featureImportance = pd.Series(model.feature_importances_, index = X.columns)\n",
    "featureImportance.plot(kind=\"bar\")\n",
    "plt.xlabel('Features')\n",
    "plt.ylabel('Importance')\n",
    "plt.show()\n"
   ]
  },
  {
   "cell_type": "code",
   "execution_count": 107,
   "metadata": {
    "scrolled": false
   },
   "outputs": [
    {
     "data": {
      "image/png": "[encoded data removed]",
      "text/plain": [
       "<Figure size 432x288 with 1 Axes>"
      ]
     },
     "metadata": {
      "needs_background": "light"
     },
     "output_type": "display_data"
    }
   ],
   "source": [
    "#Get top 10 highest features\n",
    "featureImportance = pd.Series(model.feature_importances_, index = X.columns)\n",
    "featureImportance.nlargest(10).plot(kind=\"bar\")\n",
    "plt.xlabel('Features')\n",
    "plt.ylabel('Importance')\n",
    "plt.show()"
   ]
  },
  {
   "cell_type": "code",
   "execution_count": 108,
   "metadata": {},
   "outputs": [
    {
     "data": {
      "text/plain": [
       "<matplotlib.axes._subplots.AxesSubplot at 0x16ce12d6048>"
      ]
     },
     "execution_count": 108,
     "metadata": {},
     "output_type": "execute_result"
    },
    {
     "data": {
      "image/png": "[encoded data removed]",
      "text/plain": [
       "<Figure size 1440x720 with 2 Axes>"
      ]
     },
     "metadata": {
      "needs_background": "light"
     },
     "output_type": "display_data"
    }
   ],
   "source": [
    "#Correlations between features\n",
    "CorrelationFeatures = newDataFrame.corr().index\n",
    "plt.figure(figsize=(20,10))\n",
    "sns.heatmap(newDataFrame[CorrelationFeatures].corr(), annot = True, cmap=\"RdYlGn\")"
   ]
  },
  {
   "cell_type": "code",
   "execution_count": 109,
   "metadata": {
    "scrolled": true
   },
   "outputs": [
    {
     "data": {
      "text/html": [
       "<div>\n",
       "<style scoped>\n",
       "    .dataframe tbody tr th:only-of-type {\n",
       "        vertical-align: middle;\n",
       "    }\n",
       "\n",
       "    .dataframe tbody tr th {\n",
       "        vertical-align: top;\n",
       "    }\n",
       "\n",
       "    .dataframe thead th {\n",
       "        text-align: right;\n",
       "    }\n",
       "</style>\n",
       "<table border=\"1\" class=\"dataframe\">\n",
       "  <thead>\n",
       "    <tr style=\"text-align: right;\">\n",
       "      <th></th>\n",
       "      <th>Total day minutes</th>\n",
       "      <th>Customer service calls</th>\n",
       "      <th>Total day charge</th>\n",
       "      <th>Total intl calls</th>\n",
       "      <th>Total eve charge</th>\n",
       "      <th>Total eve minutes</th>\n",
       "      <th>Total intl charge</th>\n",
       "      <th>Total intl minutes</th>\n",
       "      <th>International plan_No</th>\n",
       "      <th>Total night minutes</th>\n",
       "      <th>TargetCol</th>\n",
       "    </tr>\n",
       "  </thead>\n",
       "  <tbody>\n",
       "    <tr>\n",
       "      <td>0</td>\n",
       "      <td>265.1</td>\n",
       "      <td>1</td>\n",
       "      <td>45.07</td>\n",
       "      <td>3</td>\n",
       "      <td>16.78</td>\n",
       "      <td>197.4</td>\n",
       "      <td>2.70</td>\n",
       "      <td>10.0</td>\n",
       "      <td>1</td>\n",
       "      <td>244.7</td>\n",
       "      <td>0</td>\n",
       "    </tr>\n",
       "    <tr>\n",
       "      <td>1</td>\n",
       "      <td>161.6</td>\n",
       "      <td>1</td>\n",
       "      <td>27.47</td>\n",
       "      <td>3</td>\n",
       "      <td>16.62</td>\n",
       "      <td>195.5</td>\n",
       "      <td>3.70</td>\n",
       "      <td>13.7</td>\n",
       "      <td>1</td>\n",
       "      <td>254.4</td>\n",
       "      <td>0</td>\n",
       "    </tr>\n",
       "    <tr>\n",
       "      <td>2</td>\n",
       "      <td>243.4</td>\n",
       "      <td>0</td>\n",
       "      <td>41.38</td>\n",
       "      <td>5</td>\n",
       "      <td>10.30</td>\n",
       "      <td>121.2</td>\n",
       "      <td>3.29</td>\n",
       "      <td>12.2</td>\n",
       "      <td>1</td>\n",
       "      <td>162.6</td>\n",
       "      <td>0</td>\n",
       "    </tr>\n",
       "    <tr>\n",
       "      <td>3</td>\n",
       "      <td>299.4</td>\n",
       "      <td>2</td>\n",
       "      <td>50.90</td>\n",
       "      <td>7</td>\n",
       "      <td>5.26</td>\n",
       "      <td>61.9</td>\n",
       "      <td>1.78</td>\n",
       "      <td>6.6</td>\n",
       "      <td>0</td>\n",
       "      <td>196.9</td>\n",
       "      <td>0</td>\n",
       "    </tr>\n",
       "    <tr>\n",
       "      <td>4</td>\n",
       "      <td>166.7</td>\n",
       "      <td>3</td>\n",
       "      <td>28.34</td>\n",
       "      <td>3</td>\n",
       "      <td>12.61</td>\n",
       "      <td>148.3</td>\n",
       "      <td>2.73</td>\n",
       "      <td>10.1</td>\n",
       "      <td>0</td>\n",
       "      <td>186.9</td>\n",
       "      <td>0</td>\n",
       "    </tr>\n",
       "    <tr>\n",
       "      <td>...</td>\n",
       "      <td>...</td>\n",
       "      <td>...</td>\n",
       "      <td>...</td>\n",
       "      <td>...</td>\n",
       "      <td>...</td>\n",
       "      <td>...</td>\n",
       "      <td>...</td>\n",
       "      <td>...</td>\n",
       "      <td>...</td>\n",
       "      <td>...</td>\n",
       "      <td>...</td>\n",
       "    </tr>\n",
       "    <tr>\n",
       "      <td>2661</td>\n",
       "      <td>134.7</td>\n",
       "      <td>2</td>\n",
       "      <td>22.90</td>\n",
       "      <td>5</td>\n",
       "      <td>16.12</td>\n",
       "      <td>189.7</td>\n",
       "      <td>3.19</td>\n",
       "      <td>11.8</td>\n",
       "      <td>1</td>\n",
       "      <td>221.4</td>\n",
       "      <td>0</td>\n",
       "    </tr>\n",
       "    <tr>\n",
       "      <td>2662</td>\n",
       "      <td>156.2</td>\n",
       "      <td>2</td>\n",
       "      <td>26.55</td>\n",
       "      <td>6</td>\n",
       "      <td>18.32</td>\n",
       "      <td>215.5</td>\n",
       "      <td>2.67</td>\n",
       "      <td>9.9</td>\n",
       "      <td>1</td>\n",
       "      <td>279.1</td>\n",
       "      <td>0</td>\n",
       "    </tr>\n",
       "    <tr>\n",
       "      <td>2663</td>\n",
       "      <td>231.1</td>\n",
       "      <td>3</td>\n",
       "      <td>39.29</td>\n",
       "      <td>4</td>\n",
       "      <td>13.04</td>\n",
       "      <td>153.4</td>\n",
       "      <td>2.59</td>\n",
       "      <td>9.6</td>\n",
       "      <td>1</td>\n",
       "      <td>191.3</td>\n",
       "      <td>0</td>\n",
       "    </tr>\n",
       "    <tr>\n",
       "      <td>2664</td>\n",
       "      <td>180.8</td>\n",
       "      <td>2</td>\n",
       "      <td>30.74</td>\n",
       "      <td>6</td>\n",
       "      <td>24.55</td>\n",
       "      <td>288.8</td>\n",
       "      <td>3.81</td>\n",
       "      <td>14.1</td>\n",
       "      <td>1</td>\n",
       "      <td>191.9</td>\n",
       "      <td>0</td>\n",
       "    </tr>\n",
       "    <tr>\n",
       "      <td>2665</td>\n",
       "      <td>234.4</td>\n",
       "      <td>0</td>\n",
       "      <td>39.85</td>\n",
       "      <td>4</td>\n",
       "      <td>22.60</td>\n",
       "      <td>265.9</td>\n",
       "      <td>3.70</td>\n",
       "      <td>13.7</td>\n",
       "      <td>1</td>\n",
       "      <td>241.4</td>\n",
       "      <td>0</td>\n",
       "    </tr>\n",
       "  </tbody>\n",
       "</table>\n",
       "<p>2666 rows × 11 columns</p>\n",
       "</div>"
      ],
      "text/plain": [
       "      Total day minutes  Customer service calls  Total day charge  \\\n",
       "0                 265.1                       1             45.07   \n",
       "1                 161.6                       1             27.47   \n",
       "2                 243.4                       0             41.38   \n",
       "3                 299.4                       2             50.90   \n",
       "4                 166.7                       3             28.34   \n",
       "...                 ...                     ...               ...   \n",
       "2661              134.7                       2             22.90   \n",
       "2662              156.2                       2             26.55   \n",
       "2663              231.1                       3             39.29   \n",
       "2664              180.8                       2             30.74   \n",
       "2665              234.4                       0             39.85   \n",
       "\n",
       "      Total intl calls  Total eve charge  Total eve minutes  \\\n",
       "0                    3             16.78              197.4   \n",
       "1                    3             16.62              195.5   \n",
       "2                    5             10.30              121.2   \n",
       "3                    7              5.26               61.9   \n",
       "4                    3             12.61              148.3   \n",
       "...                ...               ...                ...   \n",
       "2661                 5             16.12              189.7   \n",
       "2662                 6             18.32              215.5   \n",
       "2663                 4             13.04              153.4   \n",
       "2664                 6             24.55              288.8   \n",
       "2665                 4             22.60              265.9   \n",
       "\n",
       "      Total intl charge  Total intl minutes  International plan_No  \\\n",
       "0                  2.70                10.0                      1   \n",
       "1                  3.70                13.7                      1   \n",
       "2                  3.29                12.2                      1   \n",
       "3                  1.78                 6.6                      0   \n",
       "4                  2.73                10.1                      0   \n",
       "...                 ...                 ...                    ...   \n",
       "2661               3.19                11.8                      1   \n",
       "2662               2.67                 9.9                      1   \n",
       "2663               2.59                 9.6                      1   \n",
       "2664               3.81                14.1                      1   \n",
       "2665               3.70                13.7                      1   \n",
       "\n",
       "      Total night minutes  TargetCol  \n",
       "0                   244.7          0  \n",
       "1                   254.4          0  \n",
       "2                   162.6          0  \n",
       "3                   196.9          0  \n",
       "4                   186.9          0  \n",
       "...                   ...        ...  \n",
       "2661                221.4          0  \n",
       "2662                279.1          0  \n",
       "2663                191.3          0  \n",
       "2664                191.9          0  \n",
       "2665                241.4          0  \n",
       "\n",
       "[2666 rows x 11 columns]"
      ]
     },
     "execution_count": 109,
     "metadata": {},
     "output_type": "execute_result"
    }
   ],
   "source": [
    "#Prepare final dataset\n",
    "featureColumns = ['Total day minutes', 'Customer service calls', 'Total day charge', 'Total intl calls',\n",
    "                              'Total eve charge', 'Total eve minutes', 'Total intl charge', 'Total intl minutes',\n",
    "                  'International plan_No', 'Total night minutes', 'TargetCol']\n",
    "finalDataFrame = newDataFrame[featureColumns]\n",
    "finalDataFrame"
   ]
  },
  {
   "cell_type": "code",
   "execution_count": 235,
   "metadata": {},
   "outputs": [],
   "source": [
    "#linear project for orange\n",
    "finalDataFrame.to_excel(\"finalDataFrame.xlsx\", index = False);"
   ]
  },
  {
   "cell_type": "code",
   "execution_count": 110,
   "metadata": {},
   "outputs": [],
   "source": [
    "#Get all the features\n",
    "newX = finalDataFrame.iloc[:,0:10]\n",
    "#Get the target column\n",
    "newy = finalDataFrame.iloc[:,-1]\n",
    "#Split the dataset into 70% training and 30% testing\n",
    "X_train, X_test, y_train, y_test = train_test_split(newX, newy, test_size = 0.30,random_state = 1)"
   ]
  },
  {
   "cell_type": "code",
   "execution_count": 111,
   "metadata": {},
   "outputs": [
    {
     "data": {
      "image/png": "[encoded data removed]",
      "text/plain": [
       "<Figure size 432x288 with 1 Axes>"
      ]
     },
     "metadata": {
      "needs_background": "light"
     },
     "output_type": "display_data"
    }
   ],
   "source": [
    "#Concat both X_train and y_train\n",
    "trainingDataset = pd.concat([X_train,  y_train], axis=1)\n",
    "trainingDataset.groupby('TargetCol').TargetCol.count().plot(kind=\"bar\")\n",
    "plt.xlabel('Churn')\n",
    "plt.ylabel('Count')\n",
    "plt.show()"
   ]
  },
  {
   "cell_type": "code",
   "execution_count": 112,
   "metadata": {},
   "outputs": [],
   "source": [
    "#Since we can see our dataset is highly unbalanced. We will use SMOTE to balance our training dataset\n",
    "smote = SMOTE()\n",
    "xTrainSmote, yTrainSmote = smote.fit_sample(X_train, y_train)"
   ]
  },
  {
   "cell_type": "code",
   "execution_count": 113,
   "metadata": {
    "scrolled": false
   },
   "outputs": [
    {
     "data": {
      "image/png": "[encoded data removed]",
      "text/plain": [
       "<Figure size 432x288 with 1 Axes>"
      ]
     },
     "metadata": {
      "needs_background": "light"
     },
     "output_type": "display_data"
    }
   ],
   "source": [
    "#Balance the dataset using SMOTE\n",
    "smoteOutput = pd.concat([xTrainSmote,  yTrainSmote], axis=1)\n",
    "smoteOutput.groupby('TargetCol').TargetCol.count().plot(kind=\"bar\")\n",
    "plt.xlabel('Churn')\n",
    "plt.ylabel('Count')\n",
    "plt.show()"
   ]
  },
  {
   "cell_type": "code",
   "execution_count": 236,
   "metadata": {},
   "outputs": [
    {
     "data": {
      "text/html": [
       "<div>\n",
       "<style scoped>\n",
       "    .dataframe tbody tr th:only-of-type {\n",
       "        vertical-align: middle;\n",
       "    }\n",
       "\n",
       "    .dataframe tbody tr th {\n",
       "        vertical-align: top;\n",
       "    }\n",
       "\n",
       "    .dataframe thead th {\n",
       "        text-align: right;\n",
       "    }\n",
       "</style>\n",
       "<table border=\"1\" class=\"dataframe\">\n",
       "  <thead>\n",
       "    <tr style=\"text-align: right;\">\n",
       "      <th></th>\n",
       "      <th>Total day minutes</th>\n",
       "      <th>Customer service calls</th>\n",
       "      <th>Total day charge</th>\n",
       "      <th>Total intl calls</th>\n",
       "      <th>Total eve charge</th>\n",
       "      <th>Total eve minutes</th>\n",
       "      <th>Total intl charge</th>\n",
       "      <th>Total intl minutes</th>\n",
       "      <th>International plan_No</th>\n",
       "      <th>Total night minutes</th>\n",
       "    </tr>\n",
       "  </thead>\n",
       "  <tbody>\n",
       "    <tr>\n",
       "      <td>1505</td>\n",
       "      <td>207.2</td>\n",
       "      <td>1</td>\n",
       "      <td>35.22</td>\n",
       "      <td>1</td>\n",
       "      <td>21.76</td>\n",
       "      <td>256.0</td>\n",
       "      <td>2.67</td>\n",
       "      <td>9.9</td>\n",
       "      <td>1</td>\n",
       "      <td>211.0</td>\n",
       "    </tr>\n",
       "    <tr>\n",
       "      <td>275</td>\n",
       "      <td>213.0</td>\n",
       "      <td>1</td>\n",
       "      <td>36.21</td>\n",
       "      <td>1</td>\n",
       "      <td>15.01</td>\n",
       "      <td>176.6</td>\n",
       "      <td>2.46</td>\n",
       "      <td>9.1</td>\n",
       "      <td>1</td>\n",
       "      <td>262.6</td>\n",
       "    </tr>\n",
       "    <tr>\n",
       "      <td>620</td>\n",
       "      <td>214.9</td>\n",
       "      <td>2</td>\n",
       "      <td>36.53</td>\n",
       "      <td>2</td>\n",
       "      <td>10.01</td>\n",
       "      <td>117.8</td>\n",
       "      <td>3.19</td>\n",
       "      <td>11.8</td>\n",
       "      <td>1</td>\n",
       "      <td>133.7</td>\n",
       "    </tr>\n",
       "    <tr>\n",
       "      <td>1825</td>\n",
       "      <td>145.7</td>\n",
       "      <td>0</td>\n",
       "      <td>24.77</td>\n",
       "      <td>7</td>\n",
       "      <td>16.24</td>\n",
       "      <td>191.0</td>\n",
       "      <td>3.05</td>\n",
       "      <td>11.3</td>\n",
       "      <td>1</td>\n",
       "      <td>215.5</td>\n",
       "    </tr>\n",
       "    <tr>\n",
       "      <td>1958</td>\n",
       "      <td>117.6</td>\n",
       "      <td>1</td>\n",
       "      <td>19.99</td>\n",
       "      <td>3</td>\n",
       "      <td>16.69</td>\n",
       "      <td>196.3</td>\n",
       "      <td>1.73</td>\n",
       "      <td>6.4</td>\n",
       "      <td>1</td>\n",
       "      <td>157.4</td>\n",
       "    </tr>\n",
       "    <tr>\n",
       "      <td>...</td>\n",
       "      <td>...</td>\n",
       "      <td>...</td>\n",
       "      <td>...</td>\n",
       "      <td>...</td>\n",
       "      <td>...</td>\n",
       "      <td>...</td>\n",
       "      <td>...</td>\n",
       "      <td>...</td>\n",
       "      <td>...</td>\n",
       "      <td>...</td>\n",
       "    </tr>\n",
       "    <tr>\n",
       "      <td>804</td>\n",
       "      <td>232.5</td>\n",
       "      <td>0</td>\n",
       "      <td>39.53</td>\n",
       "      <td>2</td>\n",
       "      <td>17.47</td>\n",
       "      <td>205.5</td>\n",
       "      <td>3.21</td>\n",
       "      <td>11.9</td>\n",
       "      <td>1</td>\n",
       "      <td>213.7</td>\n",
       "    </tr>\n",
       "    <tr>\n",
       "      <td>181</td>\n",
       "      <td>223.0</td>\n",
       "      <td>0</td>\n",
       "      <td>37.91</td>\n",
       "      <td>12</td>\n",
       "      <td>9.36</td>\n",
       "      <td>110.1</td>\n",
       "      <td>1.92</td>\n",
       "      <td>7.1</td>\n",
       "      <td>1</td>\n",
       "      <td>188.7</td>\n",
       "    </tr>\n",
       "    <tr>\n",
       "      <td>406</td>\n",
       "      <td>143.1</td>\n",
       "      <td>2</td>\n",
       "      <td>24.33</td>\n",
       "      <td>5</td>\n",
       "      <td>20.11</td>\n",
       "      <td>236.6</td>\n",
       "      <td>3.08</td>\n",
       "      <td>11.4</td>\n",
       "      <td>1</td>\n",
       "      <td>227.8</td>\n",
       "    </tr>\n",
       "    <tr>\n",
       "      <td>414</td>\n",
       "      <td>93.6</td>\n",
       "      <td>1</td>\n",
       "      <td>15.91</td>\n",
       "      <td>5</td>\n",
       "      <td>16.47</td>\n",
       "      <td>193.8</td>\n",
       "      <td>4.73</td>\n",
       "      <td>17.5</td>\n",
       "      <td>1</td>\n",
       "      <td>144.9</td>\n",
       "    </tr>\n",
       "    <tr>\n",
       "      <td>3</td>\n",
       "      <td>299.4</td>\n",
       "      <td>2</td>\n",
       "      <td>50.90</td>\n",
       "      <td>7</td>\n",
       "      <td>5.26</td>\n",
       "      <td>61.9</td>\n",
       "      <td>1.78</td>\n",
       "      <td>6.6</td>\n",
       "      <td>0</td>\n",
       "      <td>196.9</td>\n",
       "    </tr>\n",
       "  </tbody>\n",
       "</table>\n",
       "<p>800 rows × 10 columns</p>\n",
       "</div>"
      ],
      "text/plain": [
       "      Total day minutes  Customer service calls  Total day charge  \\\n",
       "1505              207.2                       1             35.22   \n",
       "275               213.0                       1             36.21   \n",
       "620               214.9                       2             36.53   \n",
       "1825              145.7                       0             24.77   \n",
       "1958              117.6                       1             19.99   \n",
       "...                 ...                     ...               ...   \n",
       "804               232.5                       0             39.53   \n",
       "181               223.0                       0             37.91   \n",
       "406               143.1                       2             24.33   \n",
       "414                93.6                       1             15.91   \n",
       "3                 299.4                       2             50.90   \n",
       "\n",
       "      Total intl calls  Total eve charge  Total eve minutes  \\\n",
       "1505                 1             21.76              256.0   \n",
       "275                  1             15.01              176.6   \n",
       "620                  2             10.01              117.8   \n",
       "1825                 7             16.24              191.0   \n",
       "1958                 3             16.69              196.3   \n",
       "...                ...               ...                ...   \n",
       "804                  2             17.47              205.5   \n",
       "181                 12              9.36              110.1   \n",
       "406                  5             20.11              236.6   \n",
       "414                  5             16.47              193.8   \n",
       "3                    7              5.26               61.9   \n",
       "\n",
       "      Total intl charge  Total intl minutes  International plan_No  \\\n",
       "1505               2.67                 9.9                      1   \n",
       "275                2.46                 9.1                      1   \n",
       "620                3.19                11.8                      1   \n",
       "1825               3.05                11.3                      1   \n",
       "1958               1.73                 6.4                      1   \n",
       "...                 ...                 ...                    ...   \n",
       "804                3.21                11.9                      1   \n",
       "181                1.92                 7.1                      1   \n",
       "406                3.08                11.4                      1   \n",
       "414                4.73                17.5                      1   \n",
       "3                  1.78                 6.6                      0   \n",
       "\n",
       "      Total night minutes  \n",
       "1505                211.0  \n",
       "275                 262.6  \n",
       "620                 133.7  \n",
       "1825                215.5  \n",
       "1958                157.4  \n",
       "...                   ...  \n",
       "804                 213.7  \n",
       "181                 188.7  \n",
       "406                 227.8  \n",
       "414                 144.9  \n",
       "3                   196.9  \n",
       "\n",
       "[800 rows x 10 columns]"
      ]
     },
     "execution_count": 236,
     "metadata": {},
     "output_type": "execute_result"
    }
   ],
   "source": [
    "X_test"
   ]
  },
  {
   "cell_type": "code",
   "execution_count": 237,
   "metadata": {},
   "outputs": [
    {
     "data": {
      "text/html": [
       "<div>\n",
       "<style scoped>\n",
       "    .dataframe tbody tr th:only-of-type {\n",
       "        vertical-align: middle;\n",
       "    }\n",
       "\n",
       "    .dataframe tbody tr th {\n",
       "        vertical-align: top;\n",
       "    }\n",
       "\n",
       "    .dataframe thead th {\n",
       "        text-align: right;\n",
       "    }\n",
       "</style>\n",
       "<table border=\"1\" class=\"dataframe\">\n",
       "  <thead>\n",
       "    <tr style=\"text-align: right;\">\n",
       "      <th></th>\n",
       "      <th>Total day minutes</th>\n",
       "      <th>Customer service calls</th>\n",
       "      <th>Total day charge</th>\n",
       "      <th>Total intl calls</th>\n",
       "      <th>Total eve charge</th>\n",
       "      <th>Total eve minutes</th>\n",
       "      <th>Total intl charge</th>\n",
       "      <th>Total intl minutes</th>\n",
       "      <th>International plan_No</th>\n",
       "      <th>Total night minutes</th>\n",
       "    </tr>\n",
       "  </thead>\n",
       "  <tbody>\n",
       "    <tr>\n",
       "      <td>0</td>\n",
       "      <td>251.900000</td>\n",
       "      <td>2</td>\n",
       "      <td>42.820000</td>\n",
       "      <td>3</td>\n",
       "      <td>16.540000</td>\n",
       "      <td>194.600000</td>\n",
       "      <td>2.270000</td>\n",
       "      <td>8.400000</td>\n",
       "      <td>1</td>\n",
       "      <td>211.200000</td>\n",
       "    </tr>\n",
       "    <tr>\n",
       "      <td>1</td>\n",
       "      <td>195.900000</td>\n",
       "      <td>3</td>\n",
       "      <td>33.300000</td>\n",
       "      <td>4</td>\n",
       "      <td>19.430000</td>\n",
       "      <td>228.600000</td>\n",
       "      <td>3.290000</td>\n",
       "      <td>12.200000</td>\n",
       "      <td>1</td>\n",
       "      <td>303.500000</td>\n",
       "    </tr>\n",
       "    <tr>\n",
       "      <td>2</td>\n",
       "      <td>95.000000</td>\n",
       "      <td>2</td>\n",
       "      <td>16.150000</td>\n",
       "      <td>2</td>\n",
       "      <td>24.750000</td>\n",
       "      <td>291.200000</td>\n",
       "      <td>2.700000</td>\n",
       "      <td>10.000000</td>\n",
       "      <td>1</td>\n",
       "      <td>159.600000</td>\n",
       "    </tr>\n",
       "    <tr>\n",
       "      <td>3</td>\n",
       "      <td>275.800000</td>\n",
       "      <td>2</td>\n",
       "      <td>46.890000</td>\n",
       "      <td>5</td>\n",
       "      <td>16.110000</td>\n",
       "      <td>189.500000</td>\n",
       "      <td>2.000000</td>\n",
       "      <td>7.400000</td>\n",
       "      <td>1</td>\n",
       "      <td>223.900000</td>\n",
       "    </tr>\n",
       "    <tr>\n",
       "      <td>4</td>\n",
       "      <td>133.400000</td>\n",
       "      <td>1</td>\n",
       "      <td>22.680000</td>\n",
       "      <td>7</td>\n",
       "      <td>17.390000</td>\n",
       "      <td>204.600000</td>\n",
       "      <td>3.000000</td>\n",
       "      <td>11.100000</td>\n",
       "      <td>1</td>\n",
       "      <td>196.900000</td>\n",
       "    </tr>\n",
       "    <tr>\n",
       "      <td>...</td>\n",
       "      <td>...</td>\n",
       "      <td>...</td>\n",
       "      <td>...</td>\n",
       "      <td>...</td>\n",
       "      <td>...</td>\n",
       "      <td>...</td>\n",
       "      <td>...</td>\n",
       "      <td>...</td>\n",
       "      <td>...</td>\n",
       "      <td>...</td>\n",
       "    </tr>\n",
       "    <tr>\n",
       "      <td>3185</td>\n",
       "      <td>235.790845</td>\n",
       "      <td>3</td>\n",
       "      <td>40.087234</td>\n",
       "      <td>2</td>\n",
       "      <td>21.393720</td>\n",
       "      <td>251.723239</td>\n",
       "      <td>2.062817</td>\n",
       "      <td>7.653585</td>\n",
       "      <td>0</td>\n",
       "      <td>284.804417</td>\n",
       "    </tr>\n",
       "    <tr>\n",
       "      <td>3186</td>\n",
       "      <td>194.626977</td>\n",
       "      <td>1</td>\n",
       "      <td>33.087810</td>\n",
       "      <td>3</td>\n",
       "      <td>17.670522</td>\n",
       "      <td>207.926381</td>\n",
       "      <td>2.406542</td>\n",
       "      <td>8.914753</td>\n",
       "      <td>0</td>\n",
       "      <td>201.703575</td>\n",
       "    </tr>\n",
       "    <tr>\n",
       "      <td>3187</td>\n",
       "      <td>182.660541</td>\n",
       "      <td>0</td>\n",
       "      <td>31.055078</td>\n",
       "      <td>3</td>\n",
       "      <td>18.288006</td>\n",
       "      <td>215.173173</td>\n",
       "      <td>4.312024</td>\n",
       "      <td>15.980777</td>\n",
       "      <td>0</td>\n",
       "      <td>214.675327</td>\n",
       "    </tr>\n",
       "    <tr>\n",
       "      <td>3188</td>\n",
       "      <td>173.230498</td>\n",
       "      <td>2</td>\n",
       "      <td>29.450477</td>\n",
       "      <td>4</td>\n",
       "      <td>12.561701</td>\n",
       "      <td>147.762904</td>\n",
       "      <td>2.017478</td>\n",
       "      <td>7.472141</td>\n",
       "      <td>0</td>\n",
       "      <td>214.254106</td>\n",
       "    </tr>\n",
       "    <tr>\n",
       "      <td>3189</td>\n",
       "      <td>208.353168</td>\n",
       "      <td>5</td>\n",
       "      <td>35.424517</td>\n",
       "      <td>5</td>\n",
       "      <td>9.105621</td>\n",
       "      <td>107.078274</td>\n",
       "      <td>2.535587</td>\n",
       "      <td>9.380192</td>\n",
       "      <td>1</td>\n",
       "      <td>190.683929</td>\n",
       "    </tr>\n",
       "  </tbody>\n",
       "</table>\n",
       "<p>3190 rows × 10 columns</p>\n",
       "</div>"
      ],
      "text/plain": [
       "      Total day minutes  Customer service calls  Total day charge  \\\n",
       "0            251.900000                       2         42.820000   \n",
       "1            195.900000                       3         33.300000   \n",
       "2             95.000000                       2         16.150000   \n",
       "3            275.800000                       2         46.890000   \n",
       "4            133.400000                       1         22.680000   \n",
       "...                 ...                     ...               ...   \n",
       "3185         235.790845                       3         40.087234   \n",
       "3186         194.626977                       1         33.087810   \n",
       "3187         182.660541                       0         31.055078   \n",
       "3188         173.230498                       2         29.450477   \n",
       "3189         208.353168                       5         35.424517   \n",
       "\n",
       "      Total intl calls  Total eve charge  Total eve minutes  \\\n",
       "0                    3         16.540000         194.600000   \n",
       "1                    4         19.430000         228.600000   \n",
       "2                    2         24.750000         291.200000   \n",
       "3                    5         16.110000         189.500000   \n",
       "4                    7         17.390000         204.600000   \n",
       "...                ...               ...                ...   \n",
       "3185                 2         21.393720         251.723239   \n",
       "3186                 3         17.670522         207.926381   \n",
       "3187                 3         18.288006         215.173173   \n",
       "3188                 4         12.561701         147.762904   \n",
       "3189                 5          9.105621         107.078274   \n",
       "\n",
       "      Total intl charge  Total intl minutes  International plan_No  \\\n",
       "0              2.270000            8.400000                      1   \n",
       "1              3.290000           12.200000                      1   \n",
       "2              2.700000           10.000000                      1   \n",
       "3              2.000000            7.400000                      1   \n",
       "4              3.000000           11.100000                      1   \n",
       "...                 ...                 ...                    ...   \n",
       "3185           2.062817            7.653585                      0   \n",
       "3186           2.406542            8.914753                      0   \n",
       "3187           4.312024           15.980777                      0   \n",
       "3188           2.017478            7.472141                      0   \n",
       "3189           2.535587            9.380192                      1   \n",
       "\n",
       "      Total night minutes  \n",
       "0              211.200000  \n",
       "1              303.500000  \n",
       "2              159.600000  \n",
       "3              223.900000  \n",
       "4              196.900000  \n",
       "...                   ...  \n",
       "3185           284.804417  \n",
       "3186           201.703575  \n",
       "3187           214.675327  \n",
       "3188           214.254106  \n",
       "3189           190.683929  \n",
       "\n",
       "[3190 rows x 10 columns]"
      ]
     },
     "execution_count": 237,
     "metadata": {},
     "output_type": "execute_result"
    }
   ],
   "source": [
    "xTrainSmote"
   ]
  },
  {
   "cell_type": "code",
   "execution_count": 124,
   "metadata": {},
   "outputs": [],
   "source": [
    "#Use Logistic Regression at the first method\n",
    "logreg = LogisticRegression(solver=\"liblinear\")\n",
    "logreg.fit(xTrainSmote, yTrainSmote)\n",
    "yPredClass = logreg.predict(X_test)"
   ]
  },
  {
   "cell_type": "code",
   "execution_count": 196,
   "metadata": {},
   "outputs": [
    {
     "name": "stdout",
     "output_type": "stream",
     "text": [
      "              precision    recall  f1-score   support\n",
      "\n",
      "           0       0.93      0.79      0.85       683\n",
      "           1       0.34      0.63      0.44       117\n",
      "\n",
      "    accuracy                           0.77       800\n",
      "   macro avg       0.63      0.71      0.65       800\n",
      "weighted avg       0.84      0.77      0.79       800\n",
      "\n"
     ]
    }
   ],
   "source": [
    "#Create a report\n",
    "print(classification_report(y_test, yPredClass))"
   ]
  },
  {
   "cell_type": "code",
   "execution_count": 130,
   "metadata": {},
   "outputs": [
    {
     "data": {
      "text/plain": [
       "array([[539, 144],\n",
       "       [ 43,  74]], dtype=int64)"
      ]
     },
     "execution_count": 130,
     "metadata": {},
     "output_type": "execute_result"
    }
   ],
   "source": [
    "#Print Confusion matrix\n",
    "metrics.confusion_matrix(y_test, yPredClass)"
   ]
  },
  {
   "cell_type": "code",
   "execution_count": 129,
   "metadata": {},
   "outputs": [
    {
     "data": {
      "image/png": "[encoded data removed]",
      "text/plain": [
       "<Figure size 432x288 with 2 Axes>"
      ]
     },
     "metadata": {
      "needs_background": "light"
     },
     "output_type": "display_data"
    }
   ],
   "source": [
    "#Confusion Matrix - \n",
    "# print(metrics.confusion_matrix(y_test, yPredClass))\n",
    "cm = metrics.confusion_matrix(y_test, yPredClass)\n",
    "ax= plt.subplot()\n",
    "sns.heatmap(cm, annot=True, ax = ax, fmt='g', cmap='Blues'); #annot=True to annotate cells\n",
    "\n",
    "# labels, title and ticks\n",
    "plt.tight_layout()\n",
    "ax.set_ylim([2,0])\n",
    "ax.set_xlabel('Predicted');\n",
    "ax.set_ylabel('Actual'); \n",
    "ax.set_title('Confusion Matrix'); \n",
    "ax.xaxis.set_ticklabels(['Did not Churn', 'Churn']); \n",
    "ax.yaxis.set_ticklabels(['Did not Churn', 'Churn']);"
   ]
  },
  {
   "cell_type": "code",
   "execution_count": 217,
   "metadata": {},
   "outputs": [
    {
     "name": "stdout",
     "output_type": "stream",
     "text": [
      "TP:  74\n",
      "TN:  539\n",
      "FP:  144\n",
      "FN:  43\n"
     ]
    }
   ],
   "source": [
    "#Get all the values for different  metrics\n",
    "TP = cm[1,1]\n",
    "TN = cm[0,0]\n",
    "FP = cm[0,1]\n",
    "NF = cm[1,0]\n",
    "print(\"TP: \", cm[1,1])\n",
    "print(\"TN: \", cm[0,0])\n",
    "print(\"FP: \", cm[0,1])\n",
    "print(\"FN: \", cm[1,0])"
   ]
  },
  {
   "cell_type": "code",
   "execution_count": 218,
   "metadata": {},
   "outputs": [
    {
     "data": {
      "text/plain": [
       "0.76625"
      ]
     },
     "execution_count": 218,
     "metadata": {},
     "output_type": "execute_result"
    }
   ],
   "source": [
    "#Calculate accuracy\n",
    "accuracy_score(y_test, yPredClass)"
   ]
  },
  {
   "cell_type": "code",
   "execution_count": 219,
   "metadata": {},
   "outputs": [
    {
     "data": {
      "text/plain": [
       "0.23375"
      ]
     },
     "execution_count": 219,
     "metadata": {},
     "output_type": "execute_result"
    }
   ],
   "source": [
    "#Classification Error\n",
    "1 - accuracy_score(y_test, yPredClass)"
   ]
  },
  {
   "cell_type": "code",
   "execution_count": 220,
   "metadata": {},
   "outputs": [
    {
     "data": {
      "text/plain": [
       "0.6324786324786325"
      ]
     },
     "execution_count": 220,
     "metadata": {},
     "output_type": "execute_result"
    }
   ],
   "source": [
    "#Sensitivity\n",
    "metrics.recall_score(y_test, yPredClass)"
   ]
  },
  {
   "cell_type": "code",
   "execution_count": 221,
   "metadata": {},
   "outputs": [
    {
     "name": "stdout",
     "output_type": "stream",
     "text": [
      "0.7891654465592972\n"
     ]
    }
   ],
   "source": [
    "#Specificity\n",
    "print(TN/float(TN + FP))"
   ]
  },
  {
   "cell_type": "code",
   "execution_count": 222,
   "metadata": {},
   "outputs": [
    {
     "name": "stdout",
     "output_type": "stream",
     "text": [
      "0.2108345534407028\n"
     ]
    }
   ],
   "source": [
    "#False Positive rate\n",
    "print(FP/float(TN + FP))"
   ]
  },
  {
   "cell_type": "code",
   "execution_count": 144,
   "metadata": {},
   "outputs": [
    {
     "data": {
      "text/plain": [
       "0.3394495412844037"
      ]
     },
     "execution_count": 144,
     "metadata": {},
     "output_type": "execute_result"
    }
   ],
   "source": [
    "#Precision\n",
    "metrics.precision_score(y_test, yPredClass)"
   ]
  },
  {
   "cell_type": "code",
   "execution_count": 145,
   "metadata": {},
   "outputs": [],
   "source": [
    "#FN is more important because from the business stand point we do not want to flag customer as not churn, but in fact they churn\n",
    "#Therefore, in this case sensitivity is more important and we should try to minimize FN"
   ]
  },
  {
   "cell_type": "code",
   "execution_count": 146,
   "metadata": {},
   "outputs": [],
   "source": [
    "#Use Predict proba to get probability\n",
    "yPredProb = logreg.predict_proba(X_test)[:,1]"
   ]
  },
  {
   "cell_type": "code",
   "execution_count": 238,
   "metadata": {},
   "outputs": [
    {
     "data": {
      "text/plain": [
       "Text(0, 0.5, 'Count')"
      ]
     },
     "execution_count": 238,
     "metadata": {},
     "output_type": "execute_result"
    },
    {
     "data": {
      "image/png": "[encoded data removed]",
      "text/plain": [
       "<Figure size 432x288 with 1 Axes>"
      ]
     },
     "metadata": {
      "needs_background": "light"
     },
     "output_type": "display_data"
    }
   ],
   "source": [
    "#Predicted probability #Lower the threshold to increase the sensitivity\n",
    "plt.hist(yPredProb, bins=10, ec='black')\n",
    "plt.xlim(0,1)\n",
    "plt.xlabel('Predicted Probability of Churns')\n",
    "plt.ylabel('Count')"
   ]
  },
  {
   "cell_type": "code",
   "execution_count": 151,
   "metadata": {},
   "outputs": [
    {
     "data": {
      "text/plain": [
       "array([[539, 144],\n",
       "       [ 43,  74]], dtype=int64)"
      ]
     },
     "execution_count": 151,
     "metadata": {},
     "output_type": "execute_result"
    }
   ],
   "source": [
    "#Old Confusion Matrix\n",
    "cm"
   ]
  },
  {
   "cell_type": "code",
   "execution_count": 171,
   "metadata": {},
   "outputs": [
    {
     "name": "stderr",
     "output_type": "stream",
     "text": [
      "C:\\Users\\Deep\\Anaconda3\\lib\\site-packages\\sklearn\\utils\\validation.py:71: FutureWarning: Pass threshold=0.3 as keyword args. From version 0.25 passing these as positional arguments will result in an error\n",
      "  FutureWarning)\n"
     ]
    }
   ],
   "source": [
    "#New predicted classes\n",
    "newYPredClass = binarize(yPredProb, 0.3)"
   ]
  },
  {
   "cell_type": "code",
   "execution_count": 172,
   "metadata": {},
   "outputs": [
    {
     "data": {
      "text/plain": [
       "array([[401, 282],\n",
       "       [ 13, 104]], dtype=int64)"
      ]
     },
     "execution_count": 172,
     "metadata": {},
     "output_type": "execute_result"
    }
   ],
   "source": [
    "#Checkout the confusion matrix with threshold of 0.3\n",
    "metrics.confusion_matrix(y_test, newYPredClass)"
   ]
  },
  {
   "cell_type": "code",
   "execution_count": 174,
   "metadata": {},
   "outputs": [
    {
     "data": {
      "text/plain": [
       "0.8888888888888888"
      ]
     },
     "execution_count": 174,
     "metadata": {},
     "output_type": "execute_result"
    }
   ],
   "source": [
    "#Sensitivity. Therefore, we can see that model have more sensitivity and low FN \n",
    "metrics.recall_score(y_test, newYPredClass)"
   ]
  },
  {
   "cell_type": "code",
   "execution_count": 181,
   "metadata": {},
   "outputs": [
    {
     "data": {
      "image/png": "[encoded data removed]",
      "text/plain": [
       "<Figure size 432x288 with 2 Axes>"
      ]
     },
     "metadata": {
      "needs_background": "light"
     },
     "output_type": "display_data"
    }
   ],
   "source": [
    "#Confusion Matrix - \n",
    "newCM = metrics.confusion_matrix(y_test, newYPredClass)\n",
    "ax= plt.subplot()\n",
    "sns.heatmap(newCM, annot=True, ax = ax, fmt='g', cmap='Blues'); #annot=True to annotate cells\n",
    "\n",
    "# labels, title and ticks\n",
    "plt.tight_layout()\n",
    "ax.set_ylim([2,0])\n",
    "ax.set_xlabel('Predicted');\n",
    "ax.set_ylabel('Actual'); \n",
    "ax.set_title('Confusion Matrix'); \n",
    "ax.xaxis.set_ticklabels(['Did not Churn', 'Churn']); \n",
    "ax.yaxis.set_ticklabels(['Did not Churn', 'Churn']);"
   ]
  },
  {
   "cell_type": "code",
   "execution_count": 239,
   "metadata": {},
   "outputs": [
    {
     "data": {
      "image/png": "[encoded data removed]",
      "text/plain": [
       "<Figure size 432x288 with 1 Axes>"
      ]
     },
     "metadata": {
      "needs_background": "light"
     },
     "output_type": "display_data"
    }
   ],
   "source": [
    "#ROC curve can help us pick a treshold that would make sense for our business\n",
    "yPredProb = yPredProb.reshape(yPredProb.shape[0],1)\n",
    "fpr, tpr, thresholds = metrics.roc_curve(y_test, yPredProb)\n",
    "plt.plot(fpr, tpr)\n",
    "plt.xlim([0.0, 1.0])\n",
    "plt.ylim([0.0, 1.0])\n",
    "plt.xlabel('1 - Specificity')\n",
    "plt.ylabel('Sensitivity')\n",
    "plt.grid(True)"
   ]
  },
  {
   "cell_type": "code",
   "execution_count": 240,
   "metadata": {
    "scrolled": true
   },
   "outputs": [
    {
     "data": {
      "text/plain": [
       "array([[401, 282],\n",
       "       [ 13, 104]], dtype=int64)"
      ]
     },
     "execution_count": 240,
     "metadata": {},
     "output_type": "execute_result"
    }
   ],
   "source": [
    "#Confusion matrix\n",
    "newCM"
   ]
  },
  {
   "cell_type": "code",
   "execution_count": 249,
   "metadata": {},
   "outputs": [
    {
     "name": "stdout",
     "output_type": "stream",
     "text": [
      "TP:  104\n",
      "TN:  401\n",
      "FP:  282\n",
      "FN:  13\n"
     ]
    }
   ],
   "source": [
    "#create variables for different metrics\n",
    "LG_NEW_TP = newCM[1,1]\n",
    "LG_NEW_TN = newCM[0,0]\n",
    "LG_NEW_FP = newCM[0,1]\n",
    "LG_NEW_FN = newCM[1,0]\n",
    "print(\"TP: \", newCM[1,1])\n",
    "print(\"TN: \", newCM[0,0])\n",
    "print(\"FP: \", newCM[0,1])\n",
    "print(\"FN: \", newCM[1,0])"
   ]
  },
  {
   "cell_type": "code",
   "execution_count": 250,
   "metadata": {},
   "outputs": [
    {
     "name": "stdout",
     "output_type": "stream",
     "text": [
      "0.63125\n"
     ]
    }
   ],
   "source": [
    "#Calculate accuracy\n",
    "print((LG_NEW_TP + LG_NEW_TN)/float(LG_NEW_TP + LG_NEW_TN + LG_NEW_FP + LG_NEW_FN))"
   ]
  },
  {
   "cell_type": "code",
   "execution_count": 251,
   "metadata": {},
   "outputs": [
    {
     "name": "stdout",
     "output_type": "stream",
     "text": [
      "0.36875\n"
     ]
    }
   ],
   "source": [
    "#Classification Error\n",
    "print(1 - (LG_NEW_TP + LG_NEW_TN)/float(LG_NEW_TP + LG_NEW_TN + LG_NEW_FP + LG_NEW_FN))"
   ]
  },
  {
   "cell_type": "code",
   "execution_count": 252,
   "metadata": {},
   "outputs": [
    {
     "name": "stdout",
     "output_type": "stream",
     "text": [
      "0.8888888888888888\n"
     ]
    }
   ],
   "source": [
    "#Sensitivity\n",
    "print((LG_NEW_TP)/float(LG_NEW_TP + LG_NEW_FN))"
   ]
  },
  {
   "cell_type": "code",
   "execution_count": 253,
   "metadata": {},
   "outputs": [
    {
     "name": "stdout",
     "output_type": "stream",
     "text": [
      "0.5871156661786238\n"
     ]
    }
   ],
   "source": [
    "#Specificity\n",
    "print((LG_NEW_TN)/float(LG_NEW_TN + LG_NEW_FP))"
   ]
  },
  {
   "cell_type": "code",
   "execution_count": 254,
   "metadata": {},
   "outputs": [
    {
     "name": "stdout",
     "output_type": "stream",
     "text": [
      "0.2694300518134715\n"
     ]
    }
   ],
   "source": [
    "#Precision\n",
    "print((LG_NEW_TP)/float(LG_NEW_TP + LG_NEW_FP))"
   ]
  },
  {
   "cell_type": "code",
   "execution_count": 184,
   "metadata": {},
   "outputs": [
    {
     "data": {
      "text/plain": [
       "0.7964485490107744"
      ]
     },
     "execution_count": 184,
     "metadata": {},
     "output_type": "execute_result"
    }
   ],
   "source": [
    "#AUC Score\n",
    "metrics.roc_auc_score(y_test, yPredProb)"
   ]
  },
  {
   "cell_type": "code",
   "execution_count": 211,
   "metadata": {},
   "outputs": [],
   "source": [
    "#Support Vector Machine\n",
    "X_train, X_test, y_train, y_test\n",
    "s = StandardScaler()\n",
    "xTrainScaler = s.fit_transform(xTrainSmote)\n",
    "xTestScaler = s.transform(X_test)\n",
    "clf = svm.SVC(probability=True, kernel=\"rbf\")\n",
    "clf.fit(xTrainScaler, yTrainSmote)\n",
    "svmPred = clf.predict(xTestScaler)"
   ]
  },
  {
   "cell_type": "code",
   "execution_count": 212,
   "metadata": {},
   "outputs": [
    {
     "name": "stdout",
     "output_type": "stream",
     "text": [
      "              precision    recall  f1-score   support\n",
      "\n",
      "           0       0.96      0.89      0.92       683\n",
      "           1       0.55      0.78      0.64       117\n",
      "\n",
      "    accuracy                           0.87       800\n",
      "   macro avg       0.75      0.83      0.78       800\n",
      "weighted avg       0.90      0.87      0.88       800\n",
      "\n"
     ]
    }
   ],
   "source": [
    "#Print a summary report\n",
    "print(classification_report(y_test, svmPred))"
   ]
  },
  {
   "cell_type": "code",
   "execution_count": 213,
   "metadata": {},
   "outputs": [
    {
     "data": {
      "text/plain": [
       "array([[608,  75],\n",
       "       [ 26,  91]], dtype=int64)"
      ]
     },
     "execution_count": 213,
     "metadata": {},
     "output_type": "execute_result"
    }
   ],
   "source": [
    "#Get the confusion matrix for SVM\n",
    "confusion_matrix(y_test, svmPred)"
   ]
  },
  {
   "cell_type": "code",
   "execution_count": 215,
   "metadata": {
    "scrolled": false
   },
   "outputs": [
    {
     "data": {
      "image/png": "[encoded data removed]",
      "text/plain": [
       "<Figure size 432x288 with 2 Axes>"
      ]
     },
     "metadata": {
      "needs_background": "light"
     },
     "output_type": "display_data"
    }
   ],
   "source": [
    "#Confusion Matrix - \n",
    "svmCM = metrics.confusion_matrix(y_test, svmPred)\n",
    "ax= plt.subplot()\n",
    "sns.heatmap(svmCM, annot=True, ax = ax, fmt='g', cmap='Blues'); #annot=True to annotate cells\n",
    "\n",
    "# labels, title and ticks\n",
    "plt.tight_layout()\n",
    "ax.set_ylim([2,0])\n",
    "ax.set_xlabel('Predicted');\n",
    "ax.set_ylabel('Actual'); \n",
    "ax.set_title('Confusion Matrix'); \n",
    "ax.xaxis.set_ticklabels(['Did not Churn', 'Churn']); \n",
    "ax.yaxis.set_ticklabels(['Did not Churn', 'Churn']);"
   ]
  },
  {
   "cell_type": "code",
   "execution_count": 223,
   "metadata": {},
   "outputs": [
    {
     "name": "stdout",
     "output_type": "stream",
     "text": [
      "TP:  91\n",
      "TN:  608\n",
      "FP:  75\n",
      "FN:  26\n"
     ]
    }
   ],
   "source": [
    "#Create variables for computing different metrics\n",
    "SVM_TP = svmCM[1,1]\n",
    "SVM_TN = svmCM[0,0]\n",
    "SVM_FP = svmCM[0,1]\n",
    "SVM_NF = svmCM[1,0]\n",
    "print(\"TP: \", svmCM[1,1])\n",
    "print(\"TN: \", svmCM[0,0])\n",
    "print(\"FP: \", svmCM[0,1])\n",
    "print(\"FN: \", svmCM[1,0])"
   ]
  },
  {
   "cell_type": "code",
   "execution_count": 225,
   "metadata": {},
   "outputs": [
    {
     "data": {
      "text/plain": [
       "0.87375"
      ]
     },
     "execution_count": 225,
     "metadata": {},
     "output_type": "execute_result"
    }
   ],
   "source": [
    "#Calculate accuracy\n",
    "accuracy_score(y_test, svmPred)"
   ]
  },
  {
   "cell_type": "code",
   "execution_count": 226,
   "metadata": {},
   "outputs": [
    {
     "data": {
      "text/plain": [
       "0.12624999999999997"
      ]
     },
     "execution_count": 226,
     "metadata": {},
     "output_type": "execute_result"
    }
   ],
   "source": [
    "#Classification Error\n",
    "1 - accuracy_score(y_test, svmPred)"
   ]
  },
  {
   "cell_type": "code",
   "execution_count": 228,
   "metadata": {},
   "outputs": [
    {
     "data": {
      "text/plain": [
       "0.7777777777777778"
      ]
     },
     "execution_count": 228,
     "metadata": {},
     "output_type": "execute_result"
    }
   ],
   "source": [
    "#Sensitivity\n",
    "metrics.recall_score(y_test, svmPred)"
   ]
  },
  {
   "cell_type": "code",
   "execution_count": 229,
   "metadata": {},
   "outputs": [
    {
     "name": "stdout",
     "output_type": "stream",
     "text": [
      "0.890190336749634\n"
     ]
    }
   ],
   "source": [
    "#Specificity\n",
    "print(SVM_TN/float(SVM_TN + SVM_FP))"
   ]
  },
  {
   "cell_type": "code",
   "execution_count": 230,
   "metadata": {},
   "outputs": [
    {
     "name": "stdout",
     "output_type": "stream",
     "text": [
      "0.10980966325036604\n"
     ]
    }
   ],
   "source": [
    "#False Positive rate\n",
    "print(SVM_FP/float(SVM_TN + SVM_FP))"
   ]
  },
  {
   "cell_type": "code",
   "execution_count": 231,
   "metadata": {},
   "outputs": [
    {
     "data": {
      "text/plain": [
       "0.5481927710843374"
      ]
     },
     "execution_count": 231,
     "metadata": {},
     "output_type": "execute_result"
    }
   ],
   "source": [
    "#Precision\n",
    "metrics.precision_score(y_test, svmPred)"
   ]
  },
  {
   "cell_type": "code",
   "execution_count": 255,
   "metadata": {},
   "outputs": [
    {
     "data": {
      "text/html": [
       "<div>\n",
       "<style scoped>\n",
       "    .dataframe tbody tr th:only-of-type {\n",
       "        vertical-align: middle;\n",
       "    }\n",
       "\n",
       "    .dataframe tbody tr th {\n",
       "        vertical-align: top;\n",
       "    }\n",
       "\n",
       "    .dataframe thead th {\n",
       "        text-align: right;\n",
       "    }\n",
       "</style>\n",
       "<table border=\"1\" class=\"dataframe\">\n",
       "  <thead>\n",
       "    <tr style=\"text-align: right;\">\n",
       "      <th></th>\n",
       "      <th>Account length</th>\n",
       "      <th>Area code</th>\n",
       "      <th>International plan</th>\n",
       "      <th>Voice mail plan</th>\n",
       "      <th>Number vmail messages</th>\n",
       "      <th>Total day minutes</th>\n",
       "      <th>Total day calls</th>\n",
       "      <th>Total day charge</th>\n",
       "      <th>Total eve minutes</th>\n",
       "      <th>Total eve calls</th>\n",
       "      <th>Total eve charge</th>\n",
       "      <th>Total night minutes</th>\n",
       "      <th>Total night calls</th>\n",
       "      <th>Total night charge</th>\n",
       "      <th>Total intl minutes</th>\n",
       "      <th>Total intl calls</th>\n",
       "      <th>Total intl charge</th>\n",
       "      <th>Customer service calls</th>\n",
       "      <th>Churn</th>\n",
       "    </tr>\n",
       "  </thead>\n",
       "  <tbody>\n",
       "    <tr>\n",
       "      <td>0</td>\n",
       "      <td>128</td>\n",
       "      <td>415</td>\n",
       "      <td>No</td>\n",
       "      <td>Yes</td>\n",
       "      <td>25</td>\n",
       "      <td>265.1</td>\n",
       "      <td>110</td>\n",
       "      <td>45.07</td>\n",
       "      <td>197.4</td>\n",
       "      <td>99</td>\n",
       "      <td>16.78</td>\n",
       "      <td>244.7</td>\n",
       "      <td>91</td>\n",
       "      <td>11.01</td>\n",
       "      <td>10.0</td>\n",
       "      <td>3</td>\n",
       "      <td>2.70</td>\n",
       "      <td>1</td>\n",
       "      <td>0</td>\n",
       "    </tr>\n",
       "    <tr>\n",
       "      <td>1</td>\n",
       "      <td>107</td>\n",
       "      <td>415</td>\n",
       "      <td>No</td>\n",
       "      <td>Yes</td>\n",
       "      <td>26</td>\n",
       "      <td>161.6</td>\n",
       "      <td>123</td>\n",
       "      <td>27.47</td>\n",
       "      <td>195.5</td>\n",
       "      <td>103</td>\n",
       "      <td>16.62</td>\n",
       "      <td>254.4</td>\n",
       "      <td>103</td>\n",
       "      <td>11.45</td>\n",
       "      <td>13.7</td>\n",
       "      <td>3</td>\n",
       "      <td>3.70</td>\n",
       "      <td>1</td>\n",
       "      <td>0</td>\n",
       "    </tr>\n",
       "    <tr>\n",
       "      <td>2</td>\n",
       "      <td>137</td>\n",
       "      <td>415</td>\n",
       "      <td>No</td>\n",
       "      <td>No</td>\n",
       "      <td>0</td>\n",
       "      <td>243.4</td>\n",
       "      <td>114</td>\n",
       "      <td>41.38</td>\n",
       "      <td>121.2</td>\n",
       "      <td>110</td>\n",
       "      <td>10.30</td>\n",
       "      <td>162.6</td>\n",
       "      <td>104</td>\n",
       "      <td>7.32</td>\n",
       "      <td>12.2</td>\n",
       "      <td>5</td>\n",
       "      <td>3.29</td>\n",
       "      <td>0</td>\n",
       "      <td>0</td>\n",
       "    </tr>\n",
       "    <tr>\n",
       "      <td>3</td>\n",
       "      <td>84</td>\n",
       "      <td>408</td>\n",
       "      <td>Yes</td>\n",
       "      <td>No</td>\n",
       "      <td>0</td>\n",
       "      <td>299.4</td>\n",
       "      <td>71</td>\n",
       "      <td>50.90</td>\n",
       "      <td>61.9</td>\n",
       "      <td>88</td>\n",
       "      <td>5.26</td>\n",
       "      <td>196.9</td>\n",
       "      <td>89</td>\n",
       "      <td>8.86</td>\n",
       "      <td>6.6</td>\n",
       "      <td>7</td>\n",
       "      <td>1.78</td>\n",
       "      <td>2</td>\n",
       "      <td>0</td>\n",
       "    </tr>\n",
       "    <tr>\n",
       "      <td>4</td>\n",
       "      <td>75</td>\n",
       "      <td>415</td>\n",
       "      <td>Yes</td>\n",
       "      <td>No</td>\n",
       "      <td>0</td>\n",
       "      <td>166.7</td>\n",
       "      <td>113</td>\n",
       "      <td>28.34</td>\n",
       "      <td>148.3</td>\n",
       "      <td>122</td>\n",
       "      <td>12.61</td>\n",
       "      <td>186.9</td>\n",
       "      <td>121</td>\n",
       "      <td>8.41</td>\n",
       "      <td>10.1</td>\n",
       "      <td>3</td>\n",
       "      <td>2.73</td>\n",
       "      <td>3</td>\n",
       "      <td>0</td>\n",
       "    </tr>\n",
       "    <tr>\n",
       "      <td>...</td>\n",
       "      <td>...</td>\n",
       "      <td>...</td>\n",
       "      <td>...</td>\n",
       "      <td>...</td>\n",
       "      <td>...</td>\n",
       "      <td>...</td>\n",
       "      <td>...</td>\n",
       "      <td>...</td>\n",
       "      <td>...</td>\n",
       "      <td>...</td>\n",
       "      <td>...</td>\n",
       "      <td>...</td>\n",
       "      <td>...</td>\n",
       "      <td>...</td>\n",
       "      <td>...</td>\n",
       "      <td>...</td>\n",
       "      <td>...</td>\n",
       "      <td>...</td>\n",
       "      <td>...</td>\n",
       "    </tr>\n",
       "    <tr>\n",
       "      <td>2661</td>\n",
       "      <td>79</td>\n",
       "      <td>415</td>\n",
       "      <td>No</td>\n",
       "      <td>No</td>\n",
       "      <td>0</td>\n",
       "      <td>134.7</td>\n",
       "      <td>98</td>\n",
       "      <td>22.90</td>\n",
       "      <td>189.7</td>\n",
       "      <td>68</td>\n",
       "      <td>16.12</td>\n",
       "      <td>221.4</td>\n",
       "      <td>128</td>\n",
       "      <td>9.96</td>\n",
       "      <td>11.8</td>\n",
       "      <td>5</td>\n",
       "      <td>3.19</td>\n",
       "      <td>2</td>\n",
       "      <td>0</td>\n",
       "    </tr>\n",
       "    <tr>\n",
       "      <td>2662</td>\n",
       "      <td>192</td>\n",
       "      <td>415</td>\n",
       "      <td>No</td>\n",
       "      <td>Yes</td>\n",
       "      <td>36</td>\n",
       "      <td>156.2</td>\n",
       "      <td>77</td>\n",
       "      <td>26.55</td>\n",
       "      <td>215.5</td>\n",
       "      <td>126</td>\n",
       "      <td>18.32</td>\n",
       "      <td>279.1</td>\n",
       "      <td>83</td>\n",
       "      <td>12.56</td>\n",
       "      <td>9.9</td>\n",
       "      <td>6</td>\n",
       "      <td>2.67</td>\n",
       "      <td>2</td>\n",
       "      <td>0</td>\n",
       "    </tr>\n",
       "    <tr>\n",
       "      <td>2663</td>\n",
       "      <td>68</td>\n",
       "      <td>415</td>\n",
       "      <td>No</td>\n",
       "      <td>No</td>\n",
       "      <td>0</td>\n",
       "      <td>231.1</td>\n",
       "      <td>57</td>\n",
       "      <td>39.29</td>\n",
       "      <td>153.4</td>\n",
       "      <td>55</td>\n",
       "      <td>13.04</td>\n",
       "      <td>191.3</td>\n",
       "      <td>123</td>\n",
       "      <td>8.61</td>\n",
       "      <td>9.6</td>\n",
       "      <td>4</td>\n",
       "      <td>2.59</td>\n",
       "      <td>3</td>\n",
       "      <td>0</td>\n",
       "    </tr>\n",
       "    <tr>\n",
       "      <td>2664</td>\n",
       "      <td>28</td>\n",
       "      <td>510</td>\n",
       "      <td>No</td>\n",
       "      <td>No</td>\n",
       "      <td>0</td>\n",
       "      <td>180.8</td>\n",
       "      <td>109</td>\n",
       "      <td>30.74</td>\n",
       "      <td>288.8</td>\n",
       "      <td>58</td>\n",
       "      <td>24.55</td>\n",
       "      <td>191.9</td>\n",
       "      <td>91</td>\n",
       "      <td>8.64</td>\n",
       "      <td>14.1</td>\n",
       "      <td>6</td>\n",
       "      <td>3.81</td>\n",
       "      <td>2</td>\n",
       "      <td>0</td>\n",
       "    </tr>\n",
       "    <tr>\n",
       "      <td>2665</td>\n",
       "      <td>74</td>\n",
       "      <td>415</td>\n",
       "      <td>No</td>\n",
       "      <td>Yes</td>\n",
       "      <td>25</td>\n",
       "      <td>234.4</td>\n",
       "      <td>113</td>\n",
       "      <td>39.85</td>\n",
       "      <td>265.9</td>\n",
       "      <td>82</td>\n",
       "      <td>22.60</td>\n",
       "      <td>241.4</td>\n",
       "      <td>77</td>\n",
       "      <td>10.86</td>\n",
       "      <td>13.7</td>\n",
       "      <td>4</td>\n",
       "      <td>3.70</td>\n",
       "      <td>0</td>\n",
       "      <td>0</td>\n",
       "    </tr>\n",
       "  </tbody>\n",
       "</table>\n",
       "<p>2666 rows × 19 columns</p>\n",
       "</div>"
      ],
      "text/plain": [
       "      Account length  Area code International plan Voice mail plan  \\\n",
       "0                128        415                 No             Yes   \n",
       "1                107        415                 No             Yes   \n",
       "2                137        415                 No              No   \n",
       "3                 84        408                Yes              No   \n",
       "4                 75        415                Yes              No   \n",
       "...              ...        ...                ...             ...   \n",
       "2661              79        415                 No              No   \n",
       "2662             192        415                 No             Yes   \n",
       "2663              68        415                 No              No   \n",
       "2664              28        510                 No              No   \n",
       "2665              74        415                 No             Yes   \n",
       "\n",
       "      Number vmail messages  Total day minutes  Total day calls  \\\n",
       "0                        25              265.1              110   \n",
       "1                        26              161.6              123   \n",
       "2                         0              243.4              114   \n",
       "3                         0              299.4               71   \n",
       "4                         0              166.7              113   \n",
       "...                     ...                ...              ...   \n",
       "2661                      0              134.7               98   \n",
       "2662                     36              156.2               77   \n",
       "2663                      0              231.1               57   \n",
       "2664                      0              180.8              109   \n",
       "2665                     25              234.4              113   \n",
       "\n",
       "      Total day charge  Total eve minutes  Total eve calls  Total eve charge  \\\n",
       "0                45.07              197.4               99             16.78   \n",
       "1                27.47              195.5              103             16.62   \n",
       "2                41.38              121.2              110             10.30   \n",
       "3                50.90               61.9               88              5.26   \n",
       "4                28.34              148.3              122             12.61   \n",
       "...                ...                ...              ...               ...   \n",
       "2661             22.90              189.7               68             16.12   \n",
       "2662             26.55              215.5              126             18.32   \n",
       "2663             39.29              153.4               55             13.04   \n",
       "2664             30.74              288.8               58             24.55   \n",
       "2665             39.85              265.9               82             22.60   \n",
       "\n",
       "      Total night minutes  Total night calls  Total night charge  \\\n",
       "0                   244.7                 91               11.01   \n",
       "1                   254.4                103               11.45   \n",
       "2                   162.6                104                7.32   \n",
       "3                   196.9                 89                8.86   \n",
       "4                   186.9                121                8.41   \n",
       "...                   ...                ...                 ...   \n",
       "2661                221.4                128                9.96   \n",
       "2662                279.1                 83               12.56   \n",
       "2663                191.3                123                8.61   \n",
       "2664                191.9                 91                8.64   \n",
       "2665                241.4                 77               10.86   \n",
       "\n",
       "      Total intl minutes  Total intl calls  Total intl charge  \\\n",
       "0                   10.0                 3               2.70   \n",
       "1                   13.7                 3               3.70   \n",
       "2                   12.2                 5               3.29   \n",
       "3                    6.6                 7               1.78   \n",
       "4                   10.1                 3               2.73   \n",
       "...                  ...               ...                ...   \n",
       "2661                11.8                 5               3.19   \n",
       "2662                 9.9                 6               2.67   \n",
       "2663                 9.6                 4               2.59   \n",
       "2664                14.1                 6               3.81   \n",
       "2665                13.7                 4               3.70   \n",
       "\n",
       "      Customer service calls  Churn  \n",
       "0                          1      0  \n",
       "1                          1      0  \n",
       "2                          0      0  \n",
       "3                          2      0  \n",
       "4                          3      0  \n",
       "...                      ...    ...  \n",
       "2661                       2      0  \n",
       "2662                       2      0  \n",
       "2663                       3      0  \n",
       "2664                       2      0  \n",
       "2665                       0      0  \n",
       "\n",
       "[2666 rows x 19 columns]"
      ]
     },
     "execution_count": 255,
     "metadata": {},
     "output_type": "execute_result"
    }
   ],
   "source": [
    "dataframe"
   ]
  },
  {
   "cell_type": "code",
   "execution_count": 259,
   "metadata": {},
   "outputs": [],
   "source": [
    "#This is used to create metrics comparison plot in excel\n",
    "metricsData = [[0.87375, 0.12624, 0.77777, 0.89019, 0.54819, 0.64, 'S'], \n",
    "[0.63125, 0.36875, 0.88888, 0.58711, 0.26943, 2*((0.26943*0.88888)/(0.26943+0.88888)), 'L']]\n",
    "compareMetricsDF = pd.DataFrame(metricsData, columns = ['Accuracy', 'Classification Error', 'Sensitivity/Recall', 'Specificity', 'Precision', 'F1-score', 'Model']) "
   ]
  },
  {
   "cell_type": "code",
   "execution_count": 264,
   "metadata": {},
   "outputs": [
    {
     "data": {
      "text/html": [
       "<div>\n",
       "<style scoped>\n",
       "    .dataframe tbody tr th:only-of-type {\n",
       "        vertical-align: middle;\n",
       "    }\n",
       "\n",
       "    .dataframe tbody tr th {\n",
       "        vertical-align: top;\n",
       "    }\n",
       "\n",
       "    .dataframe thead th {\n",
       "        text-align: right;\n",
       "    }\n",
       "</style>\n",
       "<table border=\"1\" class=\"dataframe\">\n",
       "  <thead>\n",
       "    <tr style=\"text-align: right;\">\n",
       "      <th></th>\n",
       "      <th>Accuracy</th>\n",
       "      <th>Classification Error</th>\n",
       "      <th>Sensitivity/Recall</th>\n",
       "      <th>Specificity</th>\n",
       "      <th>Precision</th>\n",
       "      <th>F1-score</th>\n",
       "      <th>Model</th>\n",
       "    </tr>\n",
       "  </thead>\n",
       "  <tbody>\n",
       "    <tr>\n",
       "      <td>0</td>\n",
       "      <td>0.87375</td>\n",
       "      <td>0.12624</td>\n",
       "      <td>0.77777</td>\n",
       "      <td>0.89019</td>\n",
       "      <td>0.54819</td>\n",
       "      <td>0.640000</td>\n",
       "      <td>S</td>\n",
       "    </tr>\n",
       "    <tr>\n",
       "      <td>1</td>\n",
       "      <td>0.63125</td>\n",
       "      <td>0.36875</td>\n",
       "      <td>0.88888</td>\n",
       "      <td>0.58711</td>\n",
       "      <td>0.26943</td>\n",
       "      <td>0.413518</td>\n",
       "      <td>L</td>\n",
       "    </tr>\n",
       "  </tbody>\n",
       "</table>\n",
       "</div>"
      ],
      "text/plain": [
       "   Accuracy  Classification Error  Sensitivity/Recall  Specificity  Precision  \\\n",
       "0   0.87375               0.12624             0.77777      0.89019    0.54819   \n",
       "1   0.63125               0.36875             0.88888      0.58711    0.26943   \n",
       "\n",
       "   F1-score Model  \n",
       "0  0.640000     S  \n",
       "1  0.413518     L  "
      ]
     },
     "execution_count": 264,
     "metadata": {},
     "output_type": "execute_result"
    }
   ],
   "source": [
    "compareMetricsDF"
   ]
  },
  {
   "cell_type": "code",
   "execution_count": 265,
   "metadata": {},
   "outputs": [],
   "source": [
    "#Output in an excel document\n",
    "compareMetricsDF.to_excel(\"compareMetrics.xlsx\", index = False);"
   ]
  }
 ],
 "metadata": {
  "kernelspec": {
   "display_name": "Python 3",
   "language": "python",
   "name": "python3"
  },
  "language_info": {
   "codemirror_mode": {
    "name": "ipython",
    "version": 3
   },
   "file_extension": ".py",
   "mimetype": "text/x-python",
   "name": "python",
   "nbconvert_exporter": "python",
   "pygments_lexer": "ipython3",
   "version": "3.7.4"
  }
 },
 "nbformat": 4,
 "nbformat_minor": 2
}
